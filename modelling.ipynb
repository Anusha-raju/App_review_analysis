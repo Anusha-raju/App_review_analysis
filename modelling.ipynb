{
 "cells": [
  {
   "cell_type": "code",
   "execution_count": 1,
   "id": "039e2005",
   "metadata": {},
   "outputs": [],
   "source": [
    "import numpy as np\n",
    "import pandas as pd \n",
    "import matplotlib.pyplot as plt \n",
    "import seaborn as sns\n"
   ]
  },
  {
   "cell_type": "code",
   "execution_count": 2,
   "id": "84927a74",
   "metadata": {},
   "outputs": [],
   "source": [
    "data = pd.read_csv('googleplaystore.csv')"
   ]
  },
  {
   "cell_type": "code",
   "execution_count": 3,
   "id": "b85ea544",
   "metadata": {},
   "outputs": [
    {
     "data": {
      "text/html": [
       "<div>\n",
       "<style scoped>\n",
       "    .dataframe tbody tr th:only-of-type {\n",
       "        vertical-align: middle;\n",
       "    }\n",
       "\n",
       "    .dataframe tbody tr th {\n",
       "        vertical-align: top;\n",
       "    }\n",
       "\n",
       "    .dataframe thead th {\n",
       "        text-align: right;\n",
       "    }\n",
       "</style>\n",
       "<table border=\"1\" class=\"dataframe\">\n",
       "  <thead>\n",
       "    <tr style=\"text-align: right;\">\n",
       "      <th></th>\n",
       "      <th>App</th>\n",
       "      <th>Category</th>\n",
       "      <th>Rating</th>\n",
       "      <th>Reviews</th>\n",
       "      <th>Size</th>\n",
       "      <th>Installs</th>\n",
       "      <th>Type</th>\n",
       "      <th>Price</th>\n",
       "      <th>Content Rating</th>\n",
       "      <th>Genres</th>\n",
       "      <th>Last Updated</th>\n",
       "      <th>Current Ver</th>\n",
       "      <th>Android Ver</th>\n",
       "    </tr>\n",
       "  </thead>\n",
       "  <tbody>\n",
       "    <tr>\n",
       "      <th>0</th>\n",
       "      <td>Photo Editor &amp; Candy Camera &amp; Grid &amp; ScrapBook</td>\n",
       "      <td>ART_AND_DESIGN</td>\n",
       "      <td>4.1</td>\n",
       "      <td>159</td>\n",
       "      <td>19M</td>\n",
       "      <td>10,000+</td>\n",
       "      <td>Free</td>\n",
       "      <td>0</td>\n",
       "      <td>Everyone</td>\n",
       "      <td>Art &amp; Design</td>\n",
       "      <td>January 7, 2018</td>\n",
       "      <td>1.0.0</td>\n",
       "      <td>4.0.3 and up</td>\n",
       "    </tr>\n",
       "    <tr>\n",
       "      <th>1</th>\n",
       "      <td>Coloring book moana</td>\n",
       "      <td>ART_AND_DESIGN</td>\n",
       "      <td>3.9</td>\n",
       "      <td>967</td>\n",
       "      <td>14M</td>\n",
       "      <td>500,000+</td>\n",
       "      <td>Free</td>\n",
       "      <td>0</td>\n",
       "      <td>Everyone</td>\n",
       "      <td>Art &amp; Design;Pretend Play</td>\n",
       "      <td>January 15, 2018</td>\n",
       "      <td>2.0.0</td>\n",
       "      <td>4.0.3 and up</td>\n",
       "    </tr>\n",
       "    <tr>\n",
       "      <th>2</th>\n",
       "      <td>U Launcher Lite – FREE Live Cool Themes, Hide ...</td>\n",
       "      <td>ART_AND_DESIGN</td>\n",
       "      <td>4.7</td>\n",
       "      <td>87510</td>\n",
       "      <td>8.7M</td>\n",
       "      <td>5,000,000+</td>\n",
       "      <td>Free</td>\n",
       "      <td>0</td>\n",
       "      <td>Everyone</td>\n",
       "      <td>Art &amp; Design</td>\n",
       "      <td>August 1, 2018</td>\n",
       "      <td>1.2.4</td>\n",
       "      <td>4.0.3 and up</td>\n",
       "    </tr>\n",
       "    <tr>\n",
       "      <th>3</th>\n",
       "      <td>Sketch - Draw &amp; Paint</td>\n",
       "      <td>ART_AND_DESIGN</td>\n",
       "      <td>4.5</td>\n",
       "      <td>215644</td>\n",
       "      <td>25M</td>\n",
       "      <td>50,000,000+</td>\n",
       "      <td>Free</td>\n",
       "      <td>0</td>\n",
       "      <td>Teen</td>\n",
       "      <td>Art &amp; Design</td>\n",
       "      <td>June 8, 2018</td>\n",
       "      <td>Varies with device</td>\n",
       "      <td>4.2 and up</td>\n",
       "    </tr>\n",
       "    <tr>\n",
       "      <th>4</th>\n",
       "      <td>Pixel Draw - Number Art Coloring Book</td>\n",
       "      <td>ART_AND_DESIGN</td>\n",
       "      <td>4.3</td>\n",
       "      <td>967</td>\n",
       "      <td>2.8M</td>\n",
       "      <td>100,000+</td>\n",
       "      <td>Free</td>\n",
       "      <td>0</td>\n",
       "      <td>Everyone</td>\n",
       "      <td>Art &amp; Design;Creativity</td>\n",
       "      <td>June 20, 2018</td>\n",
       "      <td>1.1</td>\n",
       "      <td>4.4 and up</td>\n",
       "    </tr>\n",
       "  </tbody>\n",
       "</table>\n",
       "</div>"
      ],
      "text/plain": [
       "                                                 App        Category  Rating  \\\n",
       "0     Photo Editor & Candy Camera & Grid & ScrapBook  ART_AND_DESIGN     4.1   \n",
       "1                                Coloring book moana  ART_AND_DESIGN     3.9   \n",
       "2  U Launcher Lite – FREE Live Cool Themes, Hide ...  ART_AND_DESIGN     4.7   \n",
       "3                              Sketch - Draw & Paint  ART_AND_DESIGN     4.5   \n",
       "4              Pixel Draw - Number Art Coloring Book  ART_AND_DESIGN     4.3   \n",
       "\n",
       "  Reviews  Size     Installs  Type Price Content Rating  \\\n",
       "0     159   19M      10,000+  Free     0       Everyone   \n",
       "1     967   14M     500,000+  Free     0       Everyone   \n",
       "2   87510  8.7M   5,000,000+  Free     0       Everyone   \n",
       "3  215644   25M  50,000,000+  Free     0           Teen   \n",
       "4     967  2.8M     100,000+  Free     0       Everyone   \n",
       "\n",
       "                      Genres      Last Updated         Current Ver  \\\n",
       "0               Art & Design   January 7, 2018               1.0.0   \n",
       "1  Art & Design;Pretend Play  January 15, 2018               2.0.0   \n",
       "2               Art & Design    August 1, 2018               1.2.4   \n",
       "3               Art & Design      June 8, 2018  Varies with device   \n",
       "4    Art & Design;Creativity     June 20, 2018                 1.1   \n",
       "\n",
       "    Android Ver  \n",
       "0  4.0.3 and up  \n",
       "1  4.0.3 and up  \n",
       "2  4.0.3 and up  \n",
       "3    4.2 and up  \n",
       "4    4.4 and up  "
      ]
     },
     "execution_count": 3,
     "metadata": {},
     "output_type": "execute_result"
    }
   ],
   "source": [
    "data.head(5)"
   ]
  },
  {
   "cell_type": "markdown",
   "id": "466e8071",
   "metadata": {},
   "source": [
    "***DESCRIPTIVE ANALYSIS***\n",
    "\n",
    "- App: Application name\n",
    "- Category: Category the app belongs to\n",
    "- Rating: Overall user rating of the app (as when scraped)\n",
    "- Reviews: Number of user reviews for the app (as when scraped)\n",
    "- Size: Size of the app (as when scraped)\n",
    "- Installs: Number of user downloads/installs for the app (as when scraped)\n",
    "- Type: Paid or Free\n",
    "- Price: Price of the app (as when scraped)\n",
    "- Content Rating: Age group the app is targeted at - Children / Mature 21+ / Adult\n",
    "- Genres: An app can belong to multiple genres (apart from its main category). For eg, a musical family game will belong to   Music, Game, Family genres.\n",
    "- Last Updated: Date when the app was last updated on Play Store (as when scraped)\n",
    "- Current Ver: Current version of the app available on Play Store (as when scraped)\n",
    "- Android Ver: Min required Android version (as when scraped)"
   ]
  },
  {
   "cell_type": "code",
   "execution_count": 4,
   "id": "ce62450e",
   "metadata": {},
   "outputs": [
    {
     "name": "stdout",
     "output_type": "stream",
     "text": [
      "<class 'pandas.core.frame.DataFrame'>\n",
      "RangeIndex: 10841 entries, 0 to 10840\n",
      "Data columns (total 13 columns):\n",
      " #   Column          Non-Null Count  Dtype  \n",
      "---  ------          --------------  -----  \n",
      " 0   App             10841 non-null  object \n",
      " 1   Category        10841 non-null  object \n",
      " 2   Rating          9367 non-null   float64\n",
      " 3   Reviews         10841 non-null  object \n",
      " 4   Size            10841 non-null  object \n",
      " 5   Installs        10841 non-null  object \n",
      " 6   Type            10840 non-null  object \n",
      " 7   Price           10841 non-null  object \n",
      " 8   Content Rating  10840 non-null  object \n",
      " 9   Genres          10841 non-null  object \n",
      " 10  Last Updated    10841 non-null  object \n",
      " 11  Current Ver     10833 non-null  object \n",
      " 12  Android Ver     10838 non-null  object \n",
      "dtypes: float64(1), object(12)\n",
      "memory usage: 1.1+ MB\n"
     ]
    }
   ],
   "source": [
    "data.info()"
   ]
  },
  {
   "cell_type": "code",
   "execution_count": 5,
   "id": "d6e10d3e",
   "metadata": {},
   "outputs": [
    {
     "data": {
      "text/plain": [
       "(10841, 13)"
      ]
     },
     "execution_count": 5,
     "metadata": {},
     "output_type": "execute_result"
    }
   ],
   "source": [
    "data.shape"
   ]
  },
  {
   "cell_type": "code",
   "execution_count": 6,
   "id": "9273704a",
   "metadata": {},
   "outputs": [
    {
     "data": {
      "text/plain": [
       "App                  0\n",
       "Category             0\n",
       "Rating            1474\n",
       "Reviews              0\n",
       "Size                 0\n",
       "Installs             0\n",
       "Type                 1\n",
       "Price                0\n",
       "Content Rating       1\n",
       "Genres               0\n",
       "Last Updated         0\n",
       "Current Ver          8\n",
       "Android Ver          3\n",
       "dtype: int64"
      ]
     },
     "execution_count": 6,
     "metadata": {},
     "output_type": "execute_result"
    }
   ],
   "source": [
    "data.isnull().sum()"
   ]
  },
  {
   "cell_type": "code",
   "execution_count": 7,
   "id": "961d9fd8",
   "metadata": {},
   "outputs": [
    {
     "data": {
      "text/plain": [
       "App                object\n",
       "Category           object\n",
       "Rating            float64\n",
       "Reviews            object\n",
       "Size               object\n",
       "Installs           object\n",
       "Type               object\n",
       "Price              object\n",
       "Content Rating     object\n",
       "Genres             object\n",
       "Last Updated       object\n",
       "Current Ver        object\n",
       "Android Ver        object\n",
       "dtype: object"
      ]
     },
     "execution_count": 7,
     "metadata": {},
     "output_type": "execute_result"
    }
   ],
   "source": [
    "data.dtypes"
   ]
  },
  {
   "cell_type": "markdown",
   "id": "fa59fe38",
   "metadata": {},
   "source": [
    "**Lets figure out whether we have some invalid entries in data or not?**"
   ]
  },
  {
   "cell_type": "code",
   "execution_count": 8,
   "id": "73ca6ef9",
   "metadata": {},
   "outputs": [
    {
     "data": {
      "text/html": [
       "<div>\n",
       "<style scoped>\n",
       "    .dataframe tbody tr th:only-of-type {\n",
       "        vertical-align: middle;\n",
       "    }\n",
       "\n",
       "    .dataframe tbody tr th {\n",
       "        vertical-align: top;\n",
       "    }\n",
       "\n",
       "    .dataframe thead th {\n",
       "        text-align: right;\n",
       "    }\n",
       "</style>\n",
       "<table border=\"1\" class=\"dataframe\">\n",
       "  <thead>\n",
       "    <tr style=\"text-align: right;\">\n",
       "      <th></th>\n",
       "      <th>App</th>\n",
       "      <th>Category</th>\n",
       "      <th>Rating</th>\n",
       "      <th>Reviews</th>\n",
       "      <th>Size</th>\n",
       "      <th>Installs</th>\n",
       "      <th>Type</th>\n",
       "      <th>Price</th>\n",
       "      <th>Content Rating</th>\n",
       "      <th>Genres</th>\n",
       "      <th>Last Updated</th>\n",
       "      <th>Current Ver</th>\n",
       "      <th>Android Ver</th>\n",
       "    </tr>\n",
       "  </thead>\n",
       "  <tbody>\n",
       "    <tr>\n",
       "      <th>10472</th>\n",
       "      <td>Life Made WI-Fi Touchscreen Photo Frame</td>\n",
       "      <td>1.9</td>\n",
       "      <td>19.0</td>\n",
       "      <td>3.0M</td>\n",
       "      <td>1,000+</td>\n",
       "      <td>Free</td>\n",
       "      <td>0</td>\n",
       "      <td>Everyone</td>\n",
       "      <td>NaN</td>\n",
       "      <td>February 11, 2018</td>\n",
       "      <td>1.0.19</td>\n",
       "      <td>4.0 and up</td>\n",
       "      <td>NaN</td>\n",
       "    </tr>\n",
       "  </tbody>\n",
       "</table>\n",
       "</div>"
      ],
      "text/plain": [
       "                                           App Category  Rating Reviews  \\\n",
       "10472  Life Made WI-Fi Touchscreen Photo Frame      1.9    19.0    3.0M   \n",
       "\n",
       "         Size Installs Type     Price Content Rating             Genres  \\\n",
       "10472  1,000+     Free    0  Everyone            NaN  February 11, 2018   \n",
       "\n",
       "      Last Updated Current Ver Android Ver  \n",
       "10472       1.0.19  4.0 and up         NaN  "
      ]
     },
     "execution_count": 8,
     "metadata": {},
     "output_type": "execute_result"
    }
   ],
   "source": [
    "data[data['Rating']>5]"
   ]
  },
  {
   "cell_type": "markdown",
   "id": "4cd43391",
   "metadata": {},
   "source": [
    "- while preprocessing and viewing the data we observe that in this Datasets the maximum rating of an app is 19 which is not posible ,we know that the maximum rating of an app in the google play store is 5.\n",
    "\n",
    "- *so we confidently says that something wrong.*\n",
    "\n",
    "\n",
    "- *By viewing this we say that in this row all data are placed wrong by one position so we shift the data to the right hand size and make correct position.*"
   ]
  },
  {
   "cell_type": "code",
   "execution_count": 9,
   "id": "aeb47b4e",
   "metadata": {},
   "outputs": [],
   "source": [
    "data.iloc[10472,1:]=data.iloc[10472,1:].shift(1)"
   ]
  },
  {
   "cell_type": "markdown",
   "id": "5c8773d5",
   "metadata": {},
   "source": [
    "***Feature Engineering of Last_updated feature..***"
   ]
  },
  {
   "cell_type": "markdown",
   "id": "d88fce45",
   "metadata": {},
   "source": [
    "- Here we added 2 more columns in the data set by spliting the last updated attribute, \n",
    "- By doing this we find that in which year apps are added or updated on playstore."
   ]
  },
  {
   "cell_type": "code",
   "execution_count": 10,
   "id": "11066790",
   "metadata": {},
   "outputs": [],
   "source": [
    "data['Last Updated']=pd.to_datetime(data['Last Updated'])"
   ]
  },
  {
   "cell_type": "code",
   "execution_count": 11,
   "id": "f8894167",
   "metadata": {},
   "outputs": [
    {
     "data": {
      "text/plain": [
       "dtype('<M8[ns]')"
      ]
     },
     "execution_count": 11,
     "metadata": {},
     "output_type": "execute_result"
    }
   ],
   "source": [
    "data['Last Updated'].dtype"
   ]
  },
  {
   "cell_type": "code",
   "execution_count": 12,
   "id": "362a719f",
   "metadata": {},
   "outputs": [],
   "source": [
    "data['year_added']=data['Last Updated'].dt.year\n",
    "data['month_added']=data['Last Updated'].dt.month"
   ]
  },
  {
   "cell_type": "code",
   "execution_count": 13,
   "id": "43b031b1",
   "metadata": {
    "scrolled": true
   },
   "outputs": [
    {
     "data": {
      "text/html": [
       "<div>\n",
       "<style scoped>\n",
       "    .dataframe tbody tr th:only-of-type {\n",
       "        vertical-align: middle;\n",
       "    }\n",
       "\n",
       "    .dataframe tbody tr th {\n",
       "        vertical-align: top;\n",
       "    }\n",
       "\n",
       "    .dataframe thead th {\n",
       "        text-align: right;\n",
       "    }\n",
       "</style>\n",
       "<table border=\"1\" class=\"dataframe\">\n",
       "  <thead>\n",
       "    <tr style=\"text-align: right;\">\n",
       "      <th></th>\n",
       "      <th>App</th>\n",
       "      <th>Category</th>\n",
       "      <th>Rating</th>\n",
       "      <th>Reviews</th>\n",
       "      <th>Size</th>\n",
       "      <th>Installs</th>\n",
       "      <th>Type</th>\n",
       "      <th>Price</th>\n",
       "      <th>Content Rating</th>\n",
       "      <th>Genres</th>\n",
       "      <th>Last Updated</th>\n",
       "      <th>Current Ver</th>\n",
       "      <th>Android Ver</th>\n",
       "      <th>year_added</th>\n",
       "      <th>month_added</th>\n",
       "    </tr>\n",
       "  </thead>\n",
       "  <tbody>\n",
       "    <tr>\n",
       "      <th>0</th>\n",
       "      <td>Photo Editor &amp; Candy Camera &amp; Grid &amp; ScrapBook</td>\n",
       "      <td>ART_AND_DESIGN</td>\n",
       "      <td>4.1</td>\n",
       "      <td>159</td>\n",
       "      <td>19M</td>\n",
       "      <td>10,000+</td>\n",
       "      <td>Free</td>\n",
       "      <td>0</td>\n",
       "      <td>Everyone</td>\n",
       "      <td>Art &amp; Design</td>\n",
       "      <td>2018-01-07</td>\n",
       "      <td>1.0.0</td>\n",
       "      <td>4.0.3 and up</td>\n",
       "      <td>2018</td>\n",
       "      <td>1</td>\n",
       "    </tr>\n",
       "    <tr>\n",
       "      <th>1</th>\n",
       "      <td>Coloring book moana</td>\n",
       "      <td>ART_AND_DESIGN</td>\n",
       "      <td>3.9</td>\n",
       "      <td>967</td>\n",
       "      <td>14M</td>\n",
       "      <td>500,000+</td>\n",
       "      <td>Free</td>\n",
       "      <td>0</td>\n",
       "      <td>Everyone</td>\n",
       "      <td>Art &amp; Design;Pretend Play</td>\n",
       "      <td>2018-01-15</td>\n",
       "      <td>2.0.0</td>\n",
       "      <td>4.0.3 and up</td>\n",
       "      <td>2018</td>\n",
       "      <td>1</td>\n",
       "    </tr>\n",
       "    <tr>\n",
       "      <th>2</th>\n",
       "      <td>U Launcher Lite – FREE Live Cool Themes, Hide ...</td>\n",
       "      <td>ART_AND_DESIGN</td>\n",
       "      <td>4.7</td>\n",
       "      <td>87510</td>\n",
       "      <td>8.7M</td>\n",
       "      <td>5,000,000+</td>\n",
       "      <td>Free</td>\n",
       "      <td>0</td>\n",
       "      <td>Everyone</td>\n",
       "      <td>Art &amp; Design</td>\n",
       "      <td>2018-08-01</td>\n",
       "      <td>1.2.4</td>\n",
       "      <td>4.0.3 and up</td>\n",
       "      <td>2018</td>\n",
       "      <td>8</td>\n",
       "    </tr>\n",
       "    <tr>\n",
       "      <th>3</th>\n",
       "      <td>Sketch - Draw &amp; Paint</td>\n",
       "      <td>ART_AND_DESIGN</td>\n",
       "      <td>4.5</td>\n",
       "      <td>215644</td>\n",
       "      <td>25M</td>\n",
       "      <td>50,000,000+</td>\n",
       "      <td>Free</td>\n",
       "      <td>0</td>\n",
       "      <td>Teen</td>\n",
       "      <td>Art &amp; Design</td>\n",
       "      <td>2018-06-08</td>\n",
       "      <td>Varies with device</td>\n",
       "      <td>4.2 and up</td>\n",
       "      <td>2018</td>\n",
       "      <td>6</td>\n",
       "    </tr>\n",
       "    <tr>\n",
       "      <th>4</th>\n",
       "      <td>Pixel Draw - Number Art Coloring Book</td>\n",
       "      <td>ART_AND_DESIGN</td>\n",
       "      <td>4.3</td>\n",
       "      <td>967</td>\n",
       "      <td>2.8M</td>\n",
       "      <td>100,000+</td>\n",
       "      <td>Free</td>\n",
       "      <td>0</td>\n",
       "      <td>Everyone</td>\n",
       "      <td>Art &amp; Design;Creativity</td>\n",
       "      <td>2018-06-20</td>\n",
       "      <td>1.1</td>\n",
       "      <td>4.4 and up</td>\n",
       "      <td>2018</td>\n",
       "      <td>6</td>\n",
       "    </tr>\n",
       "  </tbody>\n",
       "</table>\n",
       "</div>"
      ],
      "text/plain": [
       "                                                 App        Category Rating  \\\n",
       "0     Photo Editor & Candy Camera & Grid & ScrapBook  ART_AND_DESIGN    4.1   \n",
       "1                                Coloring book moana  ART_AND_DESIGN    3.9   \n",
       "2  U Launcher Lite – FREE Live Cool Themes, Hide ...  ART_AND_DESIGN    4.7   \n",
       "3                              Sketch - Draw & Paint  ART_AND_DESIGN    4.5   \n",
       "4              Pixel Draw - Number Art Coloring Book  ART_AND_DESIGN    4.3   \n",
       "\n",
       "  Reviews  Size     Installs  Type Price Content Rating  \\\n",
       "0     159   19M      10,000+  Free     0       Everyone   \n",
       "1     967   14M     500,000+  Free     0       Everyone   \n",
       "2   87510  8.7M   5,000,000+  Free     0       Everyone   \n",
       "3  215644   25M  50,000,000+  Free     0           Teen   \n",
       "4     967  2.8M     100,000+  Free     0       Everyone   \n",
       "\n",
       "                      Genres Last Updated         Current Ver   Android Ver  \\\n",
       "0               Art & Design   2018-01-07               1.0.0  4.0.3 and up   \n",
       "1  Art & Design;Pretend Play   2018-01-15               2.0.0  4.0.3 and up   \n",
       "2               Art & Design   2018-08-01               1.2.4  4.0.3 and up   \n",
       "3               Art & Design   2018-06-08  Varies with device    4.2 and up   \n",
       "4    Art & Design;Creativity   2018-06-20                 1.1    4.4 and up   \n",
       "\n",
       "   year_added  month_added  \n",
       "0        2018            1  \n",
       "1        2018            1  \n",
       "2        2018            8  \n",
       "3        2018            6  \n",
       "4        2018            6  "
      ]
     },
     "execution_count": 13,
     "metadata": {},
     "output_type": "execute_result"
    }
   ],
   "source": [
    "data.head(5)"
   ]
  },
  {
   "cell_type": "code",
   "execution_count": null,
   "id": "5a917f98",
   "metadata": {},
   "outputs": [],
   "source": []
  },
  {
   "cell_type": "markdown",
   "id": "faca5bea",
   "metadata": {},
   "source": [
    "#### What type of services people loves either paid or free??"
   ]
  },
  {
   "cell_type": "code",
   "execution_count": 14,
   "id": "ab12a9f1",
   "metadata": {},
   "outputs": [
    {
     "data": {
      "text/plain": [
       "1"
      ]
     },
     "execution_count": 14,
     "metadata": {},
     "output_type": "execute_result"
    }
   ],
   "source": [
    "data['Type'].isna().sum()"
   ]
  },
  {
   "cell_type": "code",
   "execution_count": 15,
   "id": "d67600bd",
   "metadata": {},
   "outputs": [],
   "source": [
    "data.dropna(subset=['Type'],inplace=True)"
   ]
  },
  {
   "cell_type": "code",
   "execution_count": 16,
   "id": "b03d96ef",
   "metadata": {},
   "outputs": [
    {
     "data": {
      "text/plain": [
       "array(['Free', 'Paid'], dtype=object)"
      ]
     },
     "execution_count": 16,
     "metadata": {},
     "output_type": "execute_result"
    }
   ],
   "source": [
    "data['Type'].unique()"
   ]
  },
  {
   "cell_type": "code",
   "execution_count": 17,
   "id": "831ae04b",
   "metadata": {},
   "outputs": [],
   "source": [
    "labels=data['Type'].unique()\n",
    "values=data['Type'].value_counts()"
   ]
  },
  {
   "cell_type": "code",
   "execution_count": 18,
   "id": "bdf63bca",
   "metadata": {},
   "outputs": [
    {
     "data": {
      "image/png": "[encoded data removed]",
      "text/plain": [
       "<Figure size 432x288 with 1 Axes>"
      ]
     },
     "metadata": {},
     "output_type": "display_data"
    }
   ],
   "source": [
    "plt.pie(values,labels = labels,autopct='%1.1f%%')\n",
    "plt.show()"
   ]
  },
  {
   "cell_type": "markdown",
   "id": "6c998b4d",
   "metadata": {},
   "source": [
    "- Here we see that 92.6% apps are free and 7.4% apps are paid on google playstore.\n",
    "- so we say that Most of the people love free services."
   ]
  },
  {
   "cell_type": "markdown",
   "id": "acff7425",
   "metadata": {},
   "source": [
    "### Performing analysis with respect to both free & paid applications.."
   ]
  },
  {
   "cell_type": "code",
   "execution_count": 19,
   "id": "5db15f83",
   "metadata": {},
   "outputs": [],
   "source": [
    "df1=data[data['Type']=='Free']\n",
    "df2=data[data['Type']=='Paid']"
   ]
  },
  {
   "cell_type": "code",
   "execution_count": 20,
   "id": "7a457b9b",
   "metadata": {},
   "outputs": [
    {
     "data": {
      "text/html": [
       "<div>\n",
       "<style scoped>\n",
       "    .dataframe tbody tr th:only-of-type {\n",
       "        vertical-align: middle;\n",
       "    }\n",
       "\n",
       "    .dataframe tbody tr th {\n",
       "        vertical-align: top;\n",
       "    }\n",
       "\n",
       "    .dataframe thead th {\n",
       "        text-align: right;\n",
       "    }\n",
       "</style>\n",
       "<table border=\"1\" class=\"dataframe\">\n",
       "  <thead>\n",
       "    <tr style=\"text-align: right;\">\n",
       "      <th></th>\n",
       "      <th>year</th>\n",
       "      <th>count</th>\n",
       "    </tr>\n",
       "  </thead>\n",
       "  <tbody>\n",
       "    <tr>\n",
       "      <th>0</th>\n",
       "      <td>2018</td>\n",
       "      <td>7004</td>\n",
       "    </tr>\n",
       "    <tr>\n",
       "      <th>1</th>\n",
       "      <td>2017</td>\n",
       "      <td>1684</td>\n",
       "    </tr>\n",
       "    <tr>\n",
       "      <th>2</th>\n",
       "      <td>2016</td>\n",
       "      <td>710</td>\n",
       "    </tr>\n",
       "    <tr>\n",
       "      <th>3</th>\n",
       "      <td>2015</td>\n",
       "      <td>377</td>\n",
       "    </tr>\n",
       "    <tr>\n",
       "      <th>4</th>\n",
       "      <td>2014</td>\n",
       "      <td>150</td>\n",
       "    </tr>\n",
       "    <tr>\n",
       "      <th>5</th>\n",
       "      <td>2013</td>\n",
       "      <td>81</td>\n",
       "    </tr>\n",
       "    <tr>\n",
       "      <th>6</th>\n",
       "      <td>2012</td>\n",
       "      <td>21</td>\n",
       "    </tr>\n",
       "    <tr>\n",
       "      <th>7</th>\n",
       "      <td>2011</td>\n",
       "      <td>12</td>\n",
       "    </tr>\n",
       "    <tr>\n",
       "      <th>8</th>\n",
       "      <td>2010</td>\n",
       "      <td>1</td>\n",
       "    </tr>\n",
       "  </tbody>\n",
       "</table>\n",
       "</div>"
      ],
      "text/plain": [
       "   year  count\n",
       "0  2018   7004\n",
       "1  2017   1684\n",
       "2  2016    710\n",
       "3  2015    377\n",
       "4  2014    150\n",
       "5  2013     81\n",
       "6  2012     21\n",
       "7  2011     12\n",
       "8  2010      1"
      ]
     },
     "execution_count": 20,
     "metadata": {},
     "output_type": "execute_result"
    }
   ],
   "source": [
    "free=df1['year_added'].value_counts().reset_index()\n",
    "free.columns=['year','count']\n",
    "free"
   ]
  },
  {
   "cell_type": "code",
   "execution_count": 21,
   "id": "d81f6f64",
   "metadata": {},
   "outputs": [
    {
     "data": {
      "text/html": [
       "<div>\n",
       "<style scoped>\n",
       "    .dataframe tbody tr th:only-of-type {\n",
       "        vertical-align: middle;\n",
       "    }\n",
       "\n",
       "    .dataframe tbody tr th {\n",
       "        vertical-align: top;\n",
       "    }\n",
       "\n",
       "    .dataframe thead th {\n",
       "        text-align: right;\n",
       "    }\n",
       "</style>\n",
       "<table border=\"1\" class=\"dataframe\">\n",
       "  <thead>\n",
       "    <tr style=\"text-align: right;\">\n",
       "      <th></th>\n",
       "      <th>year</th>\n",
       "      <th>count</th>\n",
       "    </tr>\n",
       "  </thead>\n",
       "  <tbody>\n",
       "    <tr>\n",
       "      <th>0</th>\n",
       "      <td>2018</td>\n",
       "      <td>345</td>\n",
       "    </tr>\n",
       "    <tr>\n",
       "      <th>1</th>\n",
       "      <td>2017</td>\n",
       "      <td>183</td>\n",
       "    </tr>\n",
       "    <tr>\n",
       "      <th>2</th>\n",
       "      <td>2016</td>\n",
       "      <td>94</td>\n",
       "    </tr>\n",
       "    <tr>\n",
       "      <th>3</th>\n",
       "      <td>2015</td>\n",
       "      <td>82</td>\n",
       "    </tr>\n",
       "    <tr>\n",
       "      <th>4</th>\n",
       "      <td>2014</td>\n",
       "      <td>59</td>\n",
       "    </tr>\n",
       "    <tr>\n",
       "      <th>5</th>\n",
       "      <td>2013</td>\n",
       "      <td>29</td>\n",
       "    </tr>\n",
       "    <tr>\n",
       "      <th>6</th>\n",
       "      <td>2012</td>\n",
       "      <td>5</td>\n",
       "    </tr>\n",
       "    <tr>\n",
       "      <th>7</th>\n",
       "      <td>2011</td>\n",
       "      <td>3</td>\n",
       "    </tr>\n",
       "  </tbody>\n",
       "</table>\n",
       "</div>"
      ],
      "text/plain": [
       "   year  count\n",
       "0  2018    345\n",
       "1  2017    183\n",
       "2  2016     94\n",
       "3  2015     82\n",
       "4  2014     59\n",
       "5  2013     29\n",
       "6  2012      5\n",
       "7  2011      3"
      ]
     },
     "execution_count": 21,
     "metadata": {},
     "output_type": "execute_result"
    }
   ],
   "source": [
    "paid=df2['year_added'].value_counts().reset_index()\n",
    "paid.columns=['year','count']\n",
    "paid"
   ]
  },
  {
   "cell_type": "code",
   "execution_count": 22,
   "id": "cf2890f0",
   "metadata": {},
   "outputs": [
    {
     "data": {
      "text/html": [
       "<div>\n",
       "<style scoped>\n",
       "    .dataframe tbody tr th:only-of-type {\n",
       "        vertical-align: middle;\n",
       "    }\n",
       "\n",
       "    .dataframe tbody tr th {\n",
       "        vertical-align: top;\n",
       "    }\n",
       "\n",
       "    .dataframe thead th {\n",
       "        text-align: right;\n",
       "    }\n",
       "</style>\n",
       "<table border=\"1\" class=\"dataframe\">\n",
       "  <thead>\n",
       "    <tr style=\"text-align: right;\">\n",
       "      <th></th>\n",
       "      <th>year</th>\n",
       "      <th>count</th>\n",
       "    </tr>\n",
       "  </thead>\n",
       "  <tbody>\n",
       "    <tr>\n",
       "      <th>0</th>\n",
       "      <td>2018</td>\n",
       "      <td>345</td>\n",
       "    </tr>\n",
       "    <tr>\n",
       "      <th>1</th>\n",
       "      <td>2017</td>\n",
       "      <td>183</td>\n",
       "    </tr>\n",
       "    <tr>\n",
       "      <th>2</th>\n",
       "      <td>2016</td>\n",
       "      <td>94</td>\n",
       "    </tr>\n",
       "    <tr>\n",
       "      <th>3</th>\n",
       "      <td>2015</td>\n",
       "      <td>82</td>\n",
       "    </tr>\n",
       "    <tr>\n",
       "      <th>4</th>\n",
       "      <td>2014</td>\n",
       "      <td>59</td>\n",
       "    </tr>\n",
       "    <tr>\n",
       "      <th>5</th>\n",
       "      <td>2013</td>\n",
       "      <td>29</td>\n",
       "    </tr>\n",
       "    <tr>\n",
       "      <th>6</th>\n",
       "      <td>2012</td>\n",
       "      <td>5</td>\n",
       "    </tr>\n",
       "    <tr>\n",
       "      <th>7</th>\n",
       "      <td>2011</td>\n",
       "      <td>3</td>\n",
       "    </tr>\n",
       "    <tr>\n",
       "      <th>8</th>\n",
       "      <td>2010</td>\n",
       "      <td>0</td>\n",
       "    </tr>\n",
       "  </tbody>\n",
       "</table>\n",
       "</div>"
      ],
      "text/plain": [
       "   year  count\n",
       "0  2018    345\n",
       "1  2017    183\n",
       "2  2016     94\n",
       "3  2015     82\n",
       "4  2014     59\n",
       "5  2013     29\n",
       "6  2012      5\n",
       "7  2011      3\n",
       "8  2010      0"
      ]
     },
     "execution_count": 22,
     "metadata": {},
     "output_type": "execute_result"
    }
   ],
   "source": [
    "## the value of count is not present for the year 2010 for 'paid' dataset.\n",
    "\n",
    "row={'year':2010,'count':0}\n",
    "paid=paid.append(row,ignore_index=True)\n",
    "paid"
   ]
  },
  {
   "cell_type": "code",
   "execution_count": 23,
   "id": "8efe3149",
   "metadata": {},
   "outputs": [
    {
     "data": {
      "image/png": "[encoded data removed]",
      "text/plain": [
       "<Figure size 432x288 with 1 Axes>"
      ]
     },
     "metadata": {
      "needs_background": "light"
     },
     "output_type": "display_data"
    }
   ],
   "source": [
    "ax = plt.gca()\n",
    "free.plot(kind = 'line',x = 'year',y = 'count',color = 'red',label = 'FREE',ax = ax)\n",
    "paid.plot(kind = 'line',x = 'year',y = 'count',color = 'blue',label = 'PAID',ax = ax)\n",
    "plt.title('ScatterPlot')\n",
    "plt.show()"
   ]
  },
  {
   "cell_type": "markdown",
   "id": "4d4b9342",
   "metadata": {},
   "source": [
    "### In which month Free apps added are most??"
   ]
  },
  {
   "cell_type": "code",
   "execution_count": 24,
   "id": "3cfdca0d",
   "metadata": {},
   "outputs": [
    {
     "data": {
      "text/plain": [
       "month_added\n",
       "1      444\n",
       "2      489\n",
       "3      595\n",
       "4      553\n",
       "5      897\n",
       "6     1179\n",
       "7     3022\n",
       "8     1511\n",
       "9      283\n",
       "10     357\n",
       "11     347\n",
       "12     363\n",
       "Name: month_added, dtype: int64"
      ]
     },
     "execution_count": 24,
     "metadata": {},
     "output_type": "execute_result"
    }
   ],
   "source": [
    "free=df1.groupby('month_added')['month_added'].count()\n",
    "free.columns=['month','count']\n",
    "free"
   ]
  },
  {
   "cell_type": "code",
   "execution_count": 25,
   "id": "404fb132",
   "metadata": {},
   "outputs": [
    {
     "data": {
      "text/plain": [
       "<AxesSubplot:xlabel='month_added'>"
      ]
     },
     "execution_count": 25,
     "metadata": {},
     "output_type": "execute_result"
    },
    {
     "data": {
      "image/png": "[encoded data removed]",
      "text/plain": [
       "<Figure size 432x288 with 1 Axes>"
      ]
     },
     "metadata": {
      "needs_background": "light"
     },
     "output_type": "display_data"
    }
   ],
   "source": [
    "free.plot.bar()"
   ]
  },
  {
   "cell_type": "markdown",
   "id": "bacf9e97",
   "metadata": {},
   "source": [
    "### In which month Paid apps added are most??"
   ]
  },
  {
   "cell_type": "code",
   "execution_count": 26,
   "id": "c254ca02",
   "metadata": {},
   "outputs": [
    {
     "data": {
      "text/plain": [
       "month_added\n",
       "1      47\n",
       "2      45\n",
       "3      72\n",
       "4      63\n",
       "5      81\n",
       "6      93\n",
       "7     141\n",
       "8      83\n",
       "9      31\n",
       "10     41\n",
       "11     40\n",
       "12     63\n",
       "Name: month_added, dtype: int64"
      ]
     },
     "execution_count": 26,
     "metadata": {},
     "output_type": "execute_result"
    }
   ],
   "source": [
    "paid=df2.groupby('month_added')['month_added'].count()\n",
    "paid.columns=['month','count']\n",
    "paid"
   ]
  },
  {
   "cell_type": "code",
   "execution_count": 27,
   "id": "a3aeb23b",
   "metadata": {},
   "outputs": [
    {
     "data": {
      "text/plain": [
       "<AxesSubplot:xlabel='month_added'>"
      ]
     },
     "execution_count": 27,
     "metadata": {},
     "output_type": "execute_result"
    },
    {
     "data": {
      "image/png": "[encoded data removed]",
      "text/plain": [
       "<Figure size 432x288 with 1 Axes>"
      ]
     },
     "metadata": {
      "needs_background": "light"
     },
     "output_type": "display_data"
    }
   ],
   "source": [
    "paid.plot.bar()"
   ]
  },
  {
   "cell_type": "markdown",
   "id": "990cf710",
   "metadata": {},
   "source": [
    "- Both free and paid apps where added in the month of **July**"
   ]
  },
  {
   "cell_type": "markdown",
   "id": "bcfa926a",
   "metadata": {},
   "source": [
    "#### Getting a distribution of Ratings"
   ]
  },
  {
   "cell_type": "code",
   "execution_count": 28,
   "id": "b8a7a790",
   "metadata": {},
   "outputs": [
    {
     "data": {
      "text/plain": [
       "array([4.1, 3.9, 4.7, 4.5, 4.3, 4.4, 3.8, 4.2, 4.6, 3.2, 4.0, nan, 4.8,\n",
       "       4.9, 3.6, 3.7, 3.3, 3.4, 3.5, 3.1, 5.0, 3.0, 1.9, 2.5, 2.8, 2.7,\n",
       "       1.0, 2.9, 2.3, 2.6, 2.2, 1.7, 2.0, 2.4, 1.8, 1.6, 2.1, 1.4, 1.5,\n",
       "       1.2, '1.9'], dtype=object)"
      ]
     },
     "execution_count": 28,
     "metadata": {},
     "output_type": "execute_result"
    }
   ],
   "source": [
    "df1['Rating'].unique()"
   ]
  },
  {
   "cell_type": "code",
   "execution_count": 29,
   "id": "db004a9c",
   "metadata": {},
   "outputs": [
    {
     "name": "stderr",
     "output_type": "stream",
     "text": [
      "C:\\Users\\anusha\\anaconda3\\lib\\site-packages\\pandas\\core\\generic.py:6619: SettingWithCopyWarning: \n",
      "A value is trying to be set on a copy of a slice from a DataFrame\n",
      "\n",
      "See the caveats in the documentation: https://pandas.pydata.org/pandas-docs/stable/user_guide/indexing.html#returning-a-view-versus-a-copy\n",
      "  return self._update_inplace(result)\n"
     ]
    }
   ],
   "source": [
    "df1['Rating'].replace('1.9',1.9,inplace=True)"
   ]
  },
  {
   "cell_type": "code",
   "execution_count": 30,
   "id": "e47e321e",
   "metadata": {},
   "outputs": [
    {
     "name": "stdout",
     "output_type": "stream",
     "text": [
      "[4.1 3.9 4.7 4.5 4.3 4.4 3.8 4.2 4.6 3.2 4.  nan 4.8 4.9 3.6 3.7 3.3 3.4\n",
      " 3.5 3.1 5.  3.  1.9 2.5 2.8 2.7 1.  2.9 2.3 2.6 2.2 1.7 2.  2.4 1.8 1.6\n",
      " 2.1 1.4 1.5 1.2]\n",
      "\n",
      "Data Type of Rating is  float64\n"
     ]
    }
   ],
   "source": [
    "print(df1['Rating'].unique())\n",
    "print(\"\\nData Type of Rating is \",df1['Rating'].dtype)"
   ]
  },
  {
   "cell_type": "code",
   "execution_count": 31,
   "id": "3952ecd6",
   "metadata": {},
   "outputs": [
    {
     "data": {
      "text/plain": [
       "1320"
      ]
     },
     "execution_count": 31,
     "metadata": {},
     "output_type": "execute_result"
    }
   ],
   "source": [
    "df1['Rating'].isna().sum()"
   ]
  },
  {
   "cell_type": "code",
   "execution_count": 32,
   "id": "b5195362",
   "metadata": {},
   "outputs": [
    {
     "data": {
      "text/plain": [
       "<matplotlib.legend.Legend at 0xc37e220>"
      ]
     },
     "execution_count": 32,
     "metadata": {},
     "output_type": "execute_result"
    },
    {
     "data": {
      "image/png": "[encoded data removed]",
      "text/plain": [
       "<Figure size 432x288 with 1 Axes>"
      ]
     },
     "metadata": {
      "needs_background": "light"
     },
     "output_type": "display_data"
    }
   ],
   "source": [
    "plt.hist(df1['Rating'].dropna(),label='free users rating')\n",
    "plt.hist(df2['Rating'].dropna(),label='Paid users rating')\n",
    "plt.legend()"
   ]
  },
  {
   "cell_type": "markdown",
   "id": "c7667a5c",
   "metadata": {},
   "source": [
    "#### FREE app rating distribution"
   ]
  },
  {
   "cell_type": "code",
   "execution_count": 33,
   "id": "08e45c33",
   "metadata": {},
   "outputs": [
    {
     "data": {
      "text/html": [
       "<div>\n",
       "<style scoped>\n",
       "    .dataframe tbody tr th:only-of-type {\n",
       "        vertical-align: middle;\n",
       "    }\n",
       "\n",
       "    .dataframe tbody tr th {\n",
       "        vertical-align: top;\n",
       "    }\n",
       "\n",
       "    .dataframe thead th {\n",
       "        text-align: right;\n",
       "    }\n",
       "</style>\n",
       "<table border=\"1\" class=\"dataframe\">\n",
       "  <thead>\n",
       "    <tr style=\"text-align: right;\">\n",
       "      <th></th>\n",
       "      <th>index</th>\n",
       "      <th>Rating</th>\n",
       "    </tr>\n",
       "  </thead>\n",
       "  <tbody>\n",
       "    <tr>\n",
       "      <th>0</th>\n",
       "      <td>4.4</td>\n",
       "      <td>1031</td>\n",
       "    </tr>\n",
       "    <tr>\n",
       "      <th>1</th>\n",
       "      <td>4.3</td>\n",
       "      <td>1025</td>\n",
       "    </tr>\n",
       "    <tr>\n",
       "      <th>2</th>\n",
       "      <td>4.5</td>\n",
       "      <td>965</td>\n",
       "    </tr>\n",
       "    <tr>\n",
       "      <th>3</th>\n",
       "      <td>4.2</td>\n",
       "      <td>890</td>\n",
       "    </tr>\n",
       "    <tr>\n",
       "      <th>4</th>\n",
       "      <td>4.6</td>\n",
       "      <td>741</td>\n",
       "    </tr>\n",
       "    <tr>\n",
       "      <th>5</th>\n",
       "      <td>4.1</td>\n",
       "      <td>676</td>\n",
       "    </tr>\n",
       "    <tr>\n",
       "      <th>6</th>\n",
       "      <td>4.0</td>\n",
       "      <td>546</td>\n",
       "    </tr>\n",
       "    <tr>\n",
       "      <th>7</th>\n",
       "      <td>4.7</td>\n",
       "      <td>446</td>\n",
       "    </tr>\n",
       "    <tr>\n",
       "      <th>8</th>\n",
       "      <td>3.9</td>\n",
       "      <td>370</td>\n",
       "    </tr>\n",
       "    <tr>\n",
       "      <th>9</th>\n",
       "      <td>3.8</td>\n",
       "      <td>282</td>\n",
       "    </tr>\n",
       "    <tr>\n",
       "      <th>10</th>\n",
       "      <td>5.0</td>\n",
       "      <td>246</td>\n",
       "    </tr>\n",
       "    <tr>\n",
       "      <th>11</th>\n",
       "      <td>3.7</td>\n",
       "      <td>228</td>\n",
       "    </tr>\n",
       "    <tr>\n",
       "      <th>12</th>\n",
       "      <td>4.8</td>\n",
       "      <td>195</td>\n",
       "    </tr>\n",
       "    <tr>\n",
       "      <th>13</th>\n",
       "      <td>3.6</td>\n",
       "      <td>164</td>\n",
       "    </tr>\n",
       "    <tr>\n",
       "      <th>14</th>\n",
       "      <td>3.5</td>\n",
       "      <td>152</td>\n",
       "    </tr>\n",
       "    <tr>\n",
       "      <th>15</th>\n",
       "      <td>3.4</td>\n",
       "      <td>117</td>\n",
       "    </tr>\n",
       "    <tr>\n",
       "      <th>16</th>\n",
       "      <td>3.3</td>\n",
       "      <td>97</td>\n",
       "    </tr>\n",
       "    <tr>\n",
       "      <th>17</th>\n",
       "      <td>4.9</td>\n",
       "      <td>81</td>\n",
       "    </tr>\n",
       "    <tr>\n",
       "      <th>18</th>\n",
       "      <td>3.0</td>\n",
       "      <td>75</td>\n",
       "    </tr>\n",
       "    <tr>\n",
       "      <th>19</th>\n",
       "      <td>3.1</td>\n",
       "      <td>65</td>\n",
       "    </tr>\n",
       "    <tr>\n",
       "      <th>20</th>\n",
       "      <td>3.2</td>\n",
       "      <td>62</td>\n",
       "    </tr>\n",
       "    <tr>\n",
       "      <th>21</th>\n",
       "      <td>2.9</td>\n",
       "      <td>40</td>\n",
       "    </tr>\n",
       "    <tr>\n",
       "      <th>22</th>\n",
       "      <td>2.8</td>\n",
       "      <td>39</td>\n",
       "    </tr>\n",
       "    <tr>\n",
       "      <th>23</th>\n",
       "      <td>2.7</td>\n",
       "      <td>23</td>\n",
       "    </tr>\n",
       "    <tr>\n",
       "      <th>24</th>\n",
       "      <td>2.6</td>\n",
       "      <td>23</td>\n",
       "    </tr>\n",
       "    <tr>\n",
       "      <th>25</th>\n",
       "      <td>2.5</td>\n",
       "      <td>20</td>\n",
       "    </tr>\n",
       "    <tr>\n",
       "      <th>26</th>\n",
       "      <td>2.3</td>\n",
       "      <td>18</td>\n",
       "    </tr>\n",
       "    <tr>\n",
       "      <th>27</th>\n",
       "      <td>2.4</td>\n",
       "      <td>17</td>\n",
       "    </tr>\n",
       "    <tr>\n",
       "      <th>28</th>\n",
       "      <td>2.2</td>\n",
       "      <td>14</td>\n",
       "    </tr>\n",
       "    <tr>\n",
       "      <th>29</th>\n",
       "      <td>1.0</td>\n",
       "      <td>14</td>\n",
       "    </tr>\n",
       "    <tr>\n",
       "      <th>30</th>\n",
       "      <td>1.9</td>\n",
       "      <td>14</td>\n",
       "    </tr>\n",
       "    <tr>\n",
       "      <th>31</th>\n",
       "      <td>2.0</td>\n",
       "      <td>11</td>\n",
       "    </tr>\n",
       "    <tr>\n",
       "      <th>32</th>\n",
       "      <td>2.1</td>\n",
       "      <td>8</td>\n",
       "    </tr>\n",
       "    <tr>\n",
       "      <th>33</th>\n",
       "      <td>1.7</td>\n",
       "      <td>7</td>\n",
       "    </tr>\n",
       "    <tr>\n",
       "      <th>34</th>\n",
       "      <td>1.8</td>\n",
       "      <td>7</td>\n",
       "    </tr>\n",
       "    <tr>\n",
       "      <th>35</th>\n",
       "      <td>1.6</td>\n",
       "      <td>4</td>\n",
       "    </tr>\n",
       "    <tr>\n",
       "      <th>36</th>\n",
       "      <td>1.4</td>\n",
       "      <td>3</td>\n",
       "    </tr>\n",
       "    <tr>\n",
       "      <th>37</th>\n",
       "      <td>1.5</td>\n",
       "      <td>3</td>\n",
       "    </tr>\n",
       "    <tr>\n",
       "      <th>38</th>\n",
       "      <td>1.2</td>\n",
       "      <td>1</td>\n",
       "    </tr>\n",
       "  </tbody>\n",
       "</table>\n",
       "</div>"
      ],
      "text/plain": [
       "    index  Rating\n",
       "0     4.4    1031\n",
       "1     4.3    1025\n",
       "2     4.5     965\n",
       "3     4.2     890\n",
       "4     4.6     741\n",
       "5     4.1     676\n",
       "6     4.0     546\n",
       "7     4.7     446\n",
       "8     3.9     370\n",
       "9     3.8     282\n",
       "10    5.0     246\n",
       "11    3.7     228\n",
       "12    4.8     195\n",
       "13    3.6     164\n",
       "14    3.5     152\n",
       "15    3.4     117\n",
       "16    3.3      97\n",
       "17    4.9      81\n",
       "18    3.0      75\n",
       "19    3.1      65\n",
       "20    3.2      62\n",
       "21    2.9      40\n",
       "22    2.8      39\n",
       "23    2.7      23\n",
       "24    2.6      23\n",
       "25    2.5      20\n",
       "26    2.3      18\n",
       "27    2.4      17\n",
       "28    2.2      14\n",
       "29    1.0      14\n",
       "30    1.9      14\n",
       "31    2.0      11\n",
       "32    2.1       8\n",
       "33    1.7       7\n",
       "34    1.8       7\n",
       "35    1.6       4\n",
       "36    1.4       3\n",
       "37    1.5       3\n",
       "38    1.2       1"
      ]
     },
     "execution_count": 33,
     "metadata": {},
     "output_type": "execute_result"
    }
   ],
   "source": [
    "df1['Rating'].value_counts().reset_index()"
   ]
  },
  {
   "cell_type": "markdown",
   "id": "953d3068",
   "metadata": {},
   "source": [
    "#### PAID app rating distribution"
   ]
  },
  {
   "cell_type": "code",
   "execution_count": 34,
   "id": "4fa35458",
   "metadata": {},
   "outputs": [
    {
     "data": {
      "text/html": [
       "<div>\n",
       "<style scoped>\n",
       "    .dataframe tbody tr th:only-of-type {\n",
       "        vertical-align: middle;\n",
       "    }\n",
       "\n",
       "    .dataframe tbody tr th {\n",
       "        vertical-align: top;\n",
       "    }\n",
       "\n",
       "    .dataframe thead th {\n",
       "        text-align: right;\n",
       "    }\n",
       "</style>\n",
       "<table border=\"1\" class=\"dataframe\">\n",
       "  <thead>\n",
       "    <tr style=\"text-align: right;\">\n",
       "      <th></th>\n",
       "      <th>index</th>\n",
       "      <th>Rating</th>\n",
       "    </tr>\n",
       "  </thead>\n",
       "  <tbody>\n",
       "    <tr>\n",
       "      <th>0</th>\n",
       "      <td>4.6</td>\n",
       "      <td>82</td>\n",
       "    </tr>\n",
       "    <tr>\n",
       "      <th>1</th>\n",
       "      <td>4.4</td>\n",
       "      <td>78</td>\n",
       "    </tr>\n",
       "    <tr>\n",
       "      <th>2</th>\n",
       "      <td>4.5</td>\n",
       "      <td>73</td>\n",
       "    </tr>\n",
       "    <tr>\n",
       "      <th>3</th>\n",
       "      <td>4.2</td>\n",
       "      <td>62</td>\n",
       "    </tr>\n",
       "    <tr>\n",
       "      <th>4</th>\n",
       "      <td>4.7</td>\n",
       "      <td>53</td>\n",
       "    </tr>\n",
       "    <tr>\n",
       "      <th>5</th>\n",
       "      <td>4.3</td>\n",
       "      <td>51</td>\n",
       "    </tr>\n",
       "    <tr>\n",
       "      <th>6</th>\n",
       "      <td>4.8</td>\n",
       "      <td>39</td>\n",
       "    </tr>\n",
       "    <tr>\n",
       "      <th>7</th>\n",
       "      <td>4.1</td>\n",
       "      <td>32</td>\n",
       "    </tr>\n",
       "    <tr>\n",
       "      <th>8</th>\n",
       "      <td>5.0</td>\n",
       "      <td>28</td>\n",
       "    </tr>\n",
       "    <tr>\n",
       "      <th>9</th>\n",
       "      <td>4.0</td>\n",
       "      <td>22</td>\n",
       "    </tr>\n",
       "    <tr>\n",
       "      <th>10</th>\n",
       "      <td>3.8</td>\n",
       "      <td>21</td>\n",
       "    </tr>\n",
       "    <tr>\n",
       "      <th>11</th>\n",
       "      <td>3.9</td>\n",
       "      <td>16</td>\n",
       "    </tr>\n",
       "    <tr>\n",
       "      <th>12</th>\n",
       "      <td>3.4</td>\n",
       "      <td>11</td>\n",
       "    </tr>\n",
       "    <tr>\n",
       "      <th>13</th>\n",
       "      <td>3.7</td>\n",
       "      <td>11</td>\n",
       "    </tr>\n",
       "    <tr>\n",
       "      <th>14</th>\n",
       "      <td>3.5</td>\n",
       "      <td>11</td>\n",
       "    </tr>\n",
       "    <tr>\n",
       "      <th>15</th>\n",
       "      <td>3.6</td>\n",
       "      <td>10</td>\n",
       "    </tr>\n",
       "    <tr>\n",
       "      <th>16</th>\n",
       "      <td>3.0</td>\n",
       "      <td>8</td>\n",
       "    </tr>\n",
       "    <tr>\n",
       "      <th>17</th>\n",
       "      <td>4.9</td>\n",
       "      <td>6</td>\n",
       "    </tr>\n",
       "    <tr>\n",
       "      <th>18</th>\n",
       "      <td>2.9</td>\n",
       "      <td>5</td>\n",
       "    </tr>\n",
       "    <tr>\n",
       "      <th>19</th>\n",
       "      <td>3.3</td>\n",
       "      <td>5</td>\n",
       "    </tr>\n",
       "    <tr>\n",
       "      <th>20</th>\n",
       "      <td>3.1</td>\n",
       "      <td>4</td>\n",
       "    </tr>\n",
       "    <tr>\n",
       "      <th>21</th>\n",
       "      <td>2.8</td>\n",
       "      <td>3</td>\n",
       "    </tr>\n",
       "    <tr>\n",
       "      <th>22</th>\n",
       "      <td>2.4</td>\n",
       "      <td>2</td>\n",
       "    </tr>\n",
       "    <tr>\n",
       "      <th>23</th>\n",
       "      <td>2.7</td>\n",
       "      <td>2</td>\n",
       "    </tr>\n",
       "    <tr>\n",
       "      <th>24</th>\n",
       "      <td>2.3</td>\n",
       "      <td>2</td>\n",
       "    </tr>\n",
       "    <tr>\n",
       "      <th>25</th>\n",
       "      <td>1.0</td>\n",
       "      <td>2</td>\n",
       "    </tr>\n",
       "    <tr>\n",
       "      <th>26</th>\n",
       "      <td>3.2</td>\n",
       "      <td>2</td>\n",
       "    </tr>\n",
       "    <tr>\n",
       "      <th>27</th>\n",
       "      <td>2.6</td>\n",
       "      <td>2</td>\n",
       "    </tr>\n",
       "    <tr>\n",
       "      <th>28</th>\n",
       "      <td>1.8</td>\n",
       "      <td>1</td>\n",
       "    </tr>\n",
       "    <tr>\n",
       "      <th>29</th>\n",
       "      <td>1.7</td>\n",
       "      <td>1</td>\n",
       "    </tr>\n",
       "    <tr>\n",
       "      <th>30</th>\n",
       "      <td>2.0</td>\n",
       "      <td>1</td>\n",
       "    </tr>\n",
       "    <tr>\n",
       "      <th>31</th>\n",
       "      <td>2.5</td>\n",
       "      <td>1</td>\n",
       "    </tr>\n",
       "  </tbody>\n",
       "</table>\n",
       "</div>"
      ],
      "text/plain": [
       "    index  Rating\n",
       "0     4.6      82\n",
       "1     4.4      78\n",
       "2     4.5      73\n",
       "3     4.2      62\n",
       "4     4.7      53\n",
       "5     4.3      51\n",
       "6     4.8      39\n",
       "7     4.1      32\n",
       "8     5.0      28\n",
       "9     4.0      22\n",
       "10    3.8      21\n",
       "11    3.9      16\n",
       "12    3.4      11\n",
       "13    3.7      11\n",
       "14    3.5      11\n",
       "15    3.6      10\n",
       "16    3.0       8\n",
       "17    4.9       6\n",
       "18    2.9       5\n",
       "19    3.3       5\n",
       "20    3.1       4\n",
       "21    2.8       3\n",
       "22    2.4       2\n",
       "23    2.7       2\n",
       "24    2.3       2\n",
       "25    1.0       2\n",
       "26    3.2       2\n",
       "27    2.6       2\n",
       "28    1.8       1\n",
       "29    1.7       1\n",
       "30    2.0       1\n",
       "31    2.5       1"
      ]
     },
     "execution_count": 34,
     "metadata": {},
     "output_type": "execute_result"
    }
   ],
   "source": [
    "df2['Rating'].value_counts().reset_index()"
   ]
  },
  {
   "cell_type": "markdown",
   "id": "27725608",
   "metadata": {},
   "source": [
    "### Analysing App Category"
   ]
  },
  {
   "cell_type": "code",
   "execution_count": 35,
   "id": "a39854ad",
   "metadata": {},
   "outputs": [
    {
     "data": {
      "text/plain": [
       "array(['ART_AND_DESIGN', 'AUTO_AND_VEHICLES', 'BEAUTY',\n",
       "       'BOOKS_AND_REFERENCE', 'BUSINESS', 'COMICS', 'COMMUNICATION',\n",
       "       'DATING', 'EDUCATION', 'ENTERTAINMENT', 'EVENTS', 'FINANCE',\n",
       "       'FOOD_AND_DRINK', 'HEALTH_AND_FITNESS', 'HOUSE_AND_HOME',\n",
       "       'LIBRARIES_AND_DEMO', 'LIFESTYLE', 'GAME', 'FAMILY', 'MEDICAL',\n",
       "       'SOCIAL', 'SHOPPING', 'PHOTOGRAPHY', 'SPORTS', 'TRAVEL_AND_LOCAL',\n",
       "       'TOOLS', 'PERSONALIZATION', 'PRODUCTIVITY', 'PARENTING', 'WEATHER',\n",
       "       'VIDEO_PLAYERS', 'NEWS_AND_MAGAZINES', 'MAPS_AND_NAVIGATION', nan],\n",
       "      dtype=object)"
      ]
     },
     "execution_count": 35,
     "metadata": {},
     "output_type": "execute_result"
    }
   ],
   "source": [
    "df1['Category'].unique()"
   ]
  },
  {
   "cell_type": "code",
   "execution_count": 36,
   "id": "792691d5",
   "metadata": {},
   "outputs": [
    {
     "data": {
      "text/html": [
       "<div>\n",
       "<style scoped>\n",
       "    .dataframe tbody tr th:only-of-type {\n",
       "        vertical-align: middle;\n",
       "    }\n",
       "\n",
       "    .dataframe tbody tr th {\n",
       "        vertical-align: top;\n",
       "    }\n",
       "\n",
       "    .dataframe thead th {\n",
       "        text-align: right;\n",
       "    }\n",
       "</style>\n",
       "<table border=\"1\" class=\"dataframe\">\n",
       "  <thead>\n",
       "    <tr style=\"text-align: right;\">\n",
       "      <th></th>\n",
       "      <th>Category</th>\n",
       "      <th>Count</th>\n",
       "    </tr>\n",
       "  </thead>\n",
       "  <tbody>\n",
       "    <tr>\n",
       "      <th>32</th>\n",
       "      <td>BEAUTY</td>\n",
       "      <td>53</td>\n",
       "    </tr>\n",
       "    <tr>\n",
       "      <th>31</th>\n",
       "      <td>PARENTING</td>\n",
       "      <td>58</td>\n",
       "    </tr>\n",
       "    <tr>\n",
       "      <th>30</th>\n",
       "      <td>COMICS</td>\n",
       "      <td>60</td>\n",
       "    </tr>\n",
       "    <tr>\n",
       "      <th>29</th>\n",
       "      <td>ART_AND_DESIGN</td>\n",
       "      <td>62</td>\n",
       "    </tr>\n",
       "    <tr>\n",
       "      <th>28</th>\n",
       "      <td>EVENTS</td>\n",
       "      <td>63</td>\n",
       "    </tr>\n",
       "  </tbody>\n",
       "</table>\n",
       "</div>"
      ],
      "text/plain": [
       "          Category  Count\n",
       "32          BEAUTY     53\n",
       "31       PARENTING     58\n",
       "30          COMICS     60\n",
       "29  ART_AND_DESIGN     62\n",
       "28          EVENTS     63"
      ]
     },
     "execution_count": 36,
     "metadata": {},
     "output_type": "execute_result"
    }
   ],
   "source": [
    "free = df1['Category'].value_counts().reset_index()\n",
    "free = free.sort_values(by='Category')\n",
    "free.columns = ['Category',\"Count\"]\n",
    "free.head(5)"
   ]
  },
  {
   "cell_type": "code",
   "execution_count": 37,
   "id": "a9d0a35f",
   "metadata": {},
   "outputs": [
    {
     "data": {
      "text/plain": [
       "<AxesSubplot:xlabel='Category'>"
      ]
     },
     "execution_count": 37,
     "metadata": {},
     "output_type": "execute_result"
    },
    {
     "data": {
      "image/png": "[encoded data removed]",
      "text/plain": [
       "<Figure size 1080x504 with 1 Axes>"
      ]
     },
     "metadata": {
      "needs_background": "light"
     },
     "output_type": "display_data"
    }
   ],
   "source": [
    "free.plot.bar('Category',\"Count\",figsize=(15,7))"
   ]
  },
  {
   "cell_type": "code",
   "execution_count": 38,
   "id": "4bca2204",
   "metadata": {},
   "outputs": [
    {
     "data": {
      "text/html": [
       "<div>\n",
       "<style scoped>\n",
       "    .dataframe tbody tr th:only-of-type {\n",
       "        vertical-align: middle;\n",
       "    }\n",
       "\n",
       "    .dataframe tbody tr th {\n",
       "        vertical-align: top;\n",
       "    }\n",
       "\n",
       "    .dataframe thead th {\n",
       "        text-align: right;\n",
       "    }\n",
       "</style>\n",
       "<table border=\"1\" class=\"dataframe\">\n",
       "  <thead>\n",
       "    <tr style=\"text-align: right;\">\n",
       "      <th></th>\n",
       "      <th>Category</th>\n",
       "      <th>Count</th>\n",
       "    </tr>\n",
       "  </thead>\n",
       "  <tbody>\n",
       "    <tr>\n",
       "      <th>0</th>\n",
       "      <td>FAMILY</td>\n",
       "      <td>191</td>\n",
       "    </tr>\n",
       "    <tr>\n",
       "      <th>1</th>\n",
       "      <td>MEDICAL</td>\n",
       "      <td>109</td>\n",
       "    </tr>\n",
       "    <tr>\n",
       "      <th>2</th>\n",
       "      <td>GAME</td>\n",
       "      <td>83</td>\n",
       "    </tr>\n",
       "    <tr>\n",
       "      <th>3</th>\n",
       "      <td>PERSONALIZATION</td>\n",
       "      <td>83</td>\n",
       "    </tr>\n",
       "    <tr>\n",
       "      <th>4</th>\n",
       "      <td>TOOLS</td>\n",
       "      <td>78</td>\n",
       "    </tr>\n",
       "  </tbody>\n",
       "</table>\n",
       "</div>"
      ],
      "text/plain": [
       "          Category  Count\n",
       "0           FAMILY    191\n",
       "1          MEDICAL    109\n",
       "2             GAME     83\n",
       "3  PERSONALIZATION     83\n",
       "4            TOOLS     78"
      ]
     },
     "execution_count": 38,
     "metadata": {},
     "output_type": "execute_result"
    }
   ],
   "source": [
    "paid = df2['Category'].value_counts().reset_index()\n",
    "paid.columns = ['Category',\"Count\"]\n",
    "paid.head(5)"
   ]
  },
  {
   "cell_type": "code",
   "execution_count": 39,
   "id": "0293b686",
   "metadata": {},
   "outputs": [
    {
     "data": {
      "text/plain": [
       "<AxesSubplot:xlabel='Category'>"
      ]
     },
     "execution_count": 39,
     "metadata": {},
     "output_type": "execute_result"
    },
    {
     "data": {
      "image/png": "[encoded data removed]",
      "text/plain": [
       "<Figure size 1080x504 with 1 Axes>"
      ]
     },
     "metadata": {
      "needs_background": "light"
     },
     "output_type": "display_data"
    }
   ],
   "source": [
    "paid.plot.bar('Category',\"Count\",figsize=(15,7))"
   ]
  },
  {
   "cell_type": "markdown",
   "id": "d7df556a",
   "metadata": {},
   "source": [
    "- There are many apps in the **Family** category"
   ]
  },
  {
   "cell_type": "markdown",
   "id": "ad594e9f",
   "metadata": {},
   "source": [
    "### Analysing Android version feature"
   ]
  },
  {
   "cell_type": "code",
   "execution_count": 40,
   "id": "96797156",
   "metadata": {},
   "outputs": [
    {
     "data": {
      "text/html": [
       "<div>\n",
       "<style scoped>\n",
       "    .dataframe tbody tr th:only-of-type {\n",
       "        vertical-align: middle;\n",
       "    }\n",
       "\n",
       "    .dataframe tbody tr th {\n",
       "        vertical-align: top;\n",
       "    }\n",
       "\n",
       "    .dataframe thead th {\n",
       "        text-align: right;\n",
       "    }\n",
       "</style>\n",
       "<table border=\"1\" class=\"dataframe\">\n",
       "  <thead>\n",
       "    <tr style=\"text-align: right;\">\n",
       "      <th></th>\n",
       "      <th>Android_Versions</th>\n",
       "      <th>COUNT</th>\n",
       "    </tr>\n",
       "  </thead>\n",
       "  <tbody>\n",
       "    <tr>\n",
       "      <th>27</th>\n",
       "      <td>1.0 and up</td>\n",
       "      <td>2</td>\n",
       "    </tr>\n",
       "    <tr>\n",
       "      <th>19</th>\n",
       "      <td>1.5 and up</td>\n",
       "      <td>14</td>\n",
       "    </tr>\n",
       "    <tr>\n",
       "      <th>13</th>\n",
       "      <td>1.6 and up</td>\n",
       "      <td>77</td>\n",
       "    </tr>\n",
       "    <tr>\n",
       "      <th>17</th>\n",
       "      <td>2.0 and up</td>\n",
       "      <td>26</td>\n",
       "    </tr>\n",
       "    <tr>\n",
       "      <th>26</th>\n",
       "      <td>2.0.1 and up</td>\n",
       "      <td>2</td>\n",
       "    </tr>\n",
       "  </tbody>\n",
       "</table>\n",
       "</div>"
      ],
      "text/plain": [
       "   Android_Versions  COUNT\n",
       "27       1.0 and up      2\n",
       "19       1.5 and up     14\n",
       "13       1.6 and up     77\n",
       "17       2.0 and up     26\n",
       "26     2.0.1 and up      2"
      ]
     },
     "execution_count": 40,
     "metadata": {},
     "output_type": "execute_result"
    }
   ],
   "source": [
    "free = df1['Android Ver'].value_counts().reset_index()\n",
    "free.columns=['Android_Versions','COUNT']\n",
    "free = free.sort_values(by='Android_Versions')\n",
    "free.head(5)"
   ]
  },
  {
   "cell_type": "code",
   "execution_count": 41,
   "id": "8793e21b",
   "metadata": {},
   "outputs": [
    {
     "data": {
      "text/plain": [
       "<AxesSubplot:xlabel='Android_Versions'>"
      ]
     },
     "execution_count": 41,
     "metadata": {},
     "output_type": "execute_result"
    },
    {
     "data": {
      "image/png": "[encoded data removed]",
      "text/plain": [
       "<Figure size 1080x504 with 1 Axes>"
      ]
     },
     "metadata": {
      "needs_background": "light"
     },
     "output_type": "display_data"
    }
   ],
   "source": [
    "free.plot.bar('Android_Versions','COUNT',figsize=(15,7))"
   ]
  },
  {
   "cell_type": "code",
   "execution_count": 42,
   "id": "7aa1cf88",
   "metadata": {},
   "outputs": [
    {
     "data": {
      "text/html": [
       "<div>\n",
       "<style scoped>\n",
       "    .dataframe tbody tr th:only-of-type {\n",
       "        vertical-align: middle;\n",
       "    }\n",
       "\n",
       "    .dataframe tbody tr th {\n",
       "        vertical-align: top;\n",
       "    }\n",
       "\n",
       "    .dataframe thead th {\n",
       "        text-align: right;\n",
       "    }\n",
       "</style>\n",
       "<table border=\"1\" class=\"dataframe\">\n",
       "  <thead>\n",
       "    <tr style=\"text-align: right;\">\n",
       "      <th></th>\n",
       "      <th>Android_Versions</th>\n",
       "      <th>COUNT</th>\n",
       "    </tr>\n",
       "  </thead>\n",
       "  <tbody>\n",
       "    <tr>\n",
       "      <th>16</th>\n",
       "      <td>1.5 and up</td>\n",
       "      <td>6</td>\n",
       "    </tr>\n",
       "    <tr>\n",
       "      <th>7</th>\n",
       "      <td>1.6 and up</td>\n",
       "      <td>39</td>\n",
       "    </tr>\n",
       "    <tr>\n",
       "      <th>17</th>\n",
       "      <td>2.0 and up</td>\n",
       "      <td>6</td>\n",
       "    </tr>\n",
       "    <tr>\n",
       "      <th>18</th>\n",
       "      <td>2.0.1 and up</td>\n",
       "      <td>5</td>\n",
       "    </tr>\n",
       "    <tr>\n",
       "      <th>11</th>\n",
       "      <td>2.1 and up</td>\n",
       "      <td>27</td>\n",
       "    </tr>\n",
       "  </tbody>\n",
       "</table>\n",
       "</div>"
      ],
      "text/plain": [
       "   Android_Versions  COUNT\n",
       "16       1.5 and up      6\n",
       "7        1.6 and up     39\n",
       "17       2.0 and up      6\n",
       "18     2.0.1 and up      5\n",
       "11       2.1 and up     27"
      ]
     },
     "execution_count": 42,
     "metadata": {},
     "output_type": "execute_result"
    }
   ],
   "source": [
    "paid = df2['Android Ver'].value_counts().reset_index()\n",
    "paid.columns=['Android_Versions','COUNT']\n",
    "paid = paid.sort_values(by='Android_Versions')\n",
    "paid.head(5)"
   ]
  },
  {
   "cell_type": "code",
   "execution_count": 43,
   "id": "a5fa08ec",
   "metadata": {},
   "outputs": [
    {
     "data": {
      "text/plain": [
       "<AxesSubplot:xlabel='Android_Versions'>"
      ]
     },
     "execution_count": 43,
     "metadata": {},
     "output_type": "execute_result"
    },
    {
     "data": {
      "image/png": "[encoded data removed]",
      "text/plain": [
       "<Figure size 1080x504 with 1 Axes>"
      ]
     },
     "metadata": {
      "needs_background": "light"
     },
     "output_type": "display_data"
    }
   ],
   "source": [
    "paid.plot.bar('Android_Versions','COUNT',figsize=(15,7))"
   ]
  },
  {
   "cell_type": "markdown",
   "id": "7c774926",
   "metadata": {},
   "source": [
    "### Total Installs distribution"
   ]
  },
  {
   "cell_type": "code",
   "execution_count": 44,
   "id": "9dc27ff7",
   "metadata": {},
   "outputs": [
    {
     "data": {
      "text/html": [
       "<div>\n",
       "<style scoped>\n",
       "    .dataframe tbody tr th:only-of-type {\n",
       "        vertical-align: middle;\n",
       "    }\n",
       "\n",
       "    .dataframe tbody tr th {\n",
       "        vertical-align: top;\n",
       "    }\n",
       "\n",
       "    .dataframe thead th {\n",
       "        text-align: right;\n",
       "    }\n",
       "</style>\n",
       "<table border=\"1\" class=\"dataframe\">\n",
       "  <thead>\n",
       "    <tr style=\"text-align: right;\">\n",
       "      <th></th>\n",
       "      <th>Installs</th>\n",
       "      <th>COUNT</th>\n",
       "    </tr>\n",
       "  </thead>\n",
       "  <tbody>\n",
       "    <tr>\n",
       "      <th>19</th>\n",
       "      <td>0+</td>\n",
       "      <td>4</td>\n",
       "    </tr>\n",
       "    <tr>\n",
       "      <th>18</th>\n",
       "      <td>1+</td>\n",
       "      <td>46</td>\n",
       "    </tr>\n",
       "    <tr>\n",
       "      <th>4</th>\n",
       "      <td>1,000+</td>\n",
       "      <td>759</td>\n",
       "    </tr>\n",
       "    <tr>\n",
       "      <th>0</th>\n",
       "      <td>1,000,000+</td>\n",
       "      <td>1555</td>\n",
       "    </tr>\n",
       "    <tr>\n",
       "      <th>17</th>\n",
       "      <td>1,000,000,000+</td>\n",
       "      <td>58</td>\n",
       "    </tr>\n",
       "  </tbody>\n",
       "</table>\n",
       "</div>"
      ],
      "text/plain": [
       "          Installs  COUNT\n",
       "19              0+      4\n",
       "18              1+     46\n",
       "4           1,000+    759\n",
       "0       1,000,000+   1555\n",
       "17  1,000,000,000+     58"
      ]
     },
     "execution_count": 44,
     "metadata": {},
     "output_type": "execute_result"
    }
   ],
   "source": [
    "free = df1['Installs'].value_counts().reset_index()\n",
    "free.columns=['Installs','COUNT']\n",
    "free = free.sort_values(by='Installs')\n",
    "free.head(5)"
   ]
  },
  {
   "cell_type": "code",
   "execution_count": 45,
   "id": "bd13118a",
   "metadata": {},
   "outputs": [
    {
     "data": {
      "text/plain": [
       "<AxesSubplot:xlabel='Installs'>"
      ]
     },
     "execution_count": 45,
     "metadata": {},
     "output_type": "execute_result"
    },
    {
     "data": {
      "image/png": "[encoded data removed]",
      "text/plain": [
       "<Figure size 1080x504 with 1 Axes>"
      ]
     },
     "metadata": {
      "needs_background": "light"
     },
     "output_type": "display_data"
    }
   ],
   "source": [
    "free.plot.bar('Installs','COUNT',figsize=(15,7))"
   ]
  },
  {
   "cell_type": "code",
   "execution_count": 46,
   "id": "51f50a85",
   "metadata": {},
   "outputs": [
    {
     "data": {
      "text/html": [
       "<div>\n",
       "<style scoped>\n",
       "    .dataframe tbody tr th:only-of-type {\n",
       "        vertical-align: middle;\n",
       "    }\n",
       "\n",
       "    .dataframe tbody tr th {\n",
       "        vertical-align: top;\n",
       "    }\n",
       "\n",
       "    .dataframe thead th {\n",
       "        text-align: right;\n",
       "    }\n",
       "</style>\n",
       "<table border=\"1\" class=\"dataframe\">\n",
       "  <thead>\n",
       "    <tr style=\"text-align: right;\">\n",
       "      <th></th>\n",
       "      <th>Installs</th>\n",
       "      <th>COUNT</th>\n",
       "    </tr>\n",
       "  </thead>\n",
       "  <tbody>\n",
       "    <tr>\n",
       "      <th>13</th>\n",
       "      <td>0+</td>\n",
       "      <td>10</td>\n",
       "    </tr>\n",
       "    <tr>\n",
       "      <th>10</th>\n",
       "      <td>1+</td>\n",
       "      <td>21</td>\n",
       "    </tr>\n",
       "    <tr>\n",
       "      <th>0</th>\n",
       "      <td>1,000+</td>\n",
       "      <td>149</td>\n",
       "    </tr>\n",
       "    <tr>\n",
       "      <th>9</th>\n",
       "      <td>1,000,000+</td>\n",
       "      <td>24</td>\n",
       "    </tr>\n",
       "    <tr>\n",
       "      <th>4</th>\n",
       "      <td>10+</td>\n",
       "      <td>70</td>\n",
       "    </tr>\n",
       "  </tbody>\n",
       "</table>\n",
       "</div>"
      ],
      "text/plain": [
       "      Installs  COUNT\n",
       "13          0+     10\n",
       "10          1+     21\n",
       "0       1,000+    149\n",
       "9   1,000,000+     24\n",
       "4          10+     70"
      ]
     },
     "execution_count": 46,
     "metadata": {},
     "output_type": "execute_result"
    }
   ],
   "source": [
    "paid = df2['Installs'].value_counts().reset_index()\n",
    "paid.columns=['Installs','COUNT']\n",
    "paid = paid.sort_values(by='Installs')\n",
    "paid.head(5)\n"
   ]
  },
  {
   "cell_type": "code",
   "execution_count": 47,
   "id": "d3ee2f6e",
   "metadata": {},
   "outputs": [
    {
     "data": {
      "text/plain": [
       "<AxesSubplot:xlabel='Installs'>"
      ]
     },
     "execution_count": 47,
     "metadata": {},
     "output_type": "execute_result"
    },
    {
     "data": {
      "image/png": "[encoded data removed]",
      "text/plain": [
       "<Figure size 1080x504 with 1 Axes>"
      ]
     },
     "metadata": {
      "needs_background": "light"
     },
     "output_type": "display_data"
    }
   ],
   "source": [
    "paid.plot.bar('Installs','COUNT',figsize=(15,7))"
   ]
  },
  {
   "cell_type": "markdown",
   "id": "702bd11d",
   "metadata": {},
   "source": [
    "**By observing the above plot, highest installs of the apps are crossing the 1M than 10M than 100k, very less app are crossing the 500M and dream install 1B . some apps like Instagram, Youtoube, Facebook Whtsapp etc are crossing the dream installs 1B.**"
   ]
  },
  {
   "cell_type": "markdown",
   "id": "70c36922",
   "metadata": {},
   "source": [
    "## Data Cleaning"
   ]
  },
  {
   "cell_type": "code",
   "execution_count": 48,
   "id": "b08ebcd4",
   "metadata": {},
   "outputs": [
    {
     "name": "stdout",
     "output_type": "stream",
     "text": [
      "data_shape:  (10840, 15)\n",
      "data_columns:  Index(['App', 'Category', 'Rating', 'Reviews', 'Size', 'Installs', 'Type',\n",
      "       'Price', 'Content Rating', 'Genres', 'Last Updated', 'Current Ver',\n",
      "       'Android Ver', 'year_added', 'month_added'],\n",
      "      dtype='object')\n"
     ]
    }
   ],
   "source": [
    "print(\"data_shape: \",data.shape)\n",
    "print('data_columns: ',data.columns)"
   ]
  },
  {
   "cell_type": "code",
   "execution_count": 49,
   "id": "c32baac7",
   "metadata": {},
   "outputs": [
    {
     "data": {
      "text/plain": [
       "App                       object\n",
       "Category                  object\n",
       "Rating                    object\n",
       "Reviews                   object\n",
       "Size                      object\n",
       "Installs                  object\n",
       "Type                      object\n",
       "Price                     object\n",
       "Content Rating            object\n",
       "Genres                    object\n",
       "Last Updated      datetime64[ns]\n",
       "Current Ver               object\n",
       "Android Ver               object\n",
       "year_added                 int64\n",
       "month_added                int64\n",
       "dtype: object"
      ]
     },
     "execution_count": 49,
     "metadata": {},
     "output_type": "execute_result"
    }
   ],
   "source": [
    "data.dtypes"
   ]
  },
  {
   "cell_type": "markdown",
   "id": "15d3781c",
   "metadata": {},
   "source": [
    "### Data Cleaning on Price feature"
   ]
  },
  {
   "cell_type": "code",
   "execution_count": 50,
   "id": "581fd409",
   "metadata": {},
   "outputs": [
    {
     "data": {
      "text/plain": [
       "array(['0', '$4.99', '$3.99', '$6.99', '$1.49', '$2.99', '$7.99', '$5.99',\n",
       "       '$3.49', '$1.99', '$9.99', '$7.49', '$0.99', '$9.00', '$5.49',\n",
       "       '$10.00', '$24.99', '$11.99', '$79.99', '$16.99', '$14.99',\n",
       "       '$1.00', '$29.99', '$12.99', '$2.49', '$10.99', '$1.50', '$19.99',\n",
       "       '$15.99', '$33.99', '$74.99', '$39.99', '$3.95', '$4.49', '$1.70',\n",
       "       '$8.99', '$2.00', '$3.88', '$25.99', '$399.99', '$17.99',\n",
       "       '$400.00', '$3.02', '$1.76', '$4.84', '$4.77', '$1.61', '$2.50',\n",
       "       '$1.59', '$6.49', '$1.29', '$5.00', '$13.99', '$299.99', '$379.99',\n",
       "       '$37.99', '$18.99', '$389.99', '$19.90', '$8.49', '$1.75',\n",
       "       '$14.00', '$4.85', '$46.99', '$109.99', '$154.99', '$3.08',\n",
       "       '$2.59', '$4.80', '$1.96', '$19.40', '$3.90', '$4.59', '$15.46',\n",
       "       '$3.04', '$4.29', '$2.60', '$3.28', '$4.60', '$28.99', '$2.95',\n",
       "       '$2.90', '$1.97', '$200.00', '$89.99', '$2.56', '$30.99', '$3.61',\n",
       "       '$394.99', '$1.26', '$1.20', '$1.04'], dtype=object)"
      ]
     },
     "execution_count": 50,
     "metadata": {},
     "output_type": "execute_result"
    }
   ],
   "source": [
    "data['Price'].unique()"
   ]
  },
  {
   "cell_type": "code",
   "execution_count": 51,
   "id": "69cfdb6f",
   "metadata": {},
   "outputs": [],
   "source": [
    "def remove_dollar(x):\n",
    "    if x=='0':\n",
    "        return 0\n",
    "    else:\n",
    "        return x[1:]"
   ]
  },
  {
   "cell_type": "code",
   "execution_count": 52,
   "id": "29d8d0d5",
   "metadata": {},
   "outputs": [],
   "source": [
    "# creating a copy of data\n",
    "\n",
    "dataframe=data.copy()"
   ]
  },
  {
   "cell_type": "code",
   "execution_count": 53,
   "id": "75ca2292",
   "metadata": {},
   "outputs": [],
   "source": [
    "dataframe['Price']=dataframe['Price'].apply(remove_dollar)"
   ]
  },
  {
   "cell_type": "code",
   "execution_count": 54,
   "id": "88eb795f",
   "metadata": {},
   "outputs": [
    {
     "data": {
      "text/plain": [
       "array([0, '4.99', '3.99', '6.99', '1.49', '2.99', '7.99', '5.99', '3.49',\n",
       "       '1.99', '9.99', '7.49', '0.99', '9.00', '5.49', '10.00', '24.99',\n",
       "       '11.99', '79.99', '16.99', '14.99', '1.00', '29.99', '12.99',\n",
       "       '2.49', '10.99', '1.50', '19.99', '15.99', '33.99', '74.99',\n",
       "       '39.99', '3.95', '4.49', '1.70', '8.99', '2.00', '3.88', '25.99',\n",
       "       '399.99', '17.99', '400.00', '3.02', '1.76', '4.84', '4.77',\n",
       "       '1.61', '2.50', '1.59', '6.49', '1.29', '5.00', '13.99', '299.99',\n",
       "       '379.99', '37.99', '18.99', '389.99', '19.90', '8.49', '1.75',\n",
       "       '14.00', '4.85', '46.99', '109.99', '154.99', '3.08', '2.59',\n",
       "       '4.80', '1.96', '19.40', '3.90', '4.59', '15.46', '3.04', '4.29',\n",
       "       '2.60', '3.28', '4.60', '28.99', '2.95', '2.90', '1.97', '200.00',\n",
       "       '89.99', '2.56', '30.99', '3.61', '394.99', '1.26', '1.20', '1.04'],\n",
       "      dtype=object)"
      ]
     },
     "execution_count": 54,
     "metadata": {},
     "output_type": "execute_result"
    }
   ],
   "source": [
    "dataframe['Price'].unique()"
   ]
  },
  {
   "cell_type": "code",
   "execution_count": 55,
   "id": "8dad3f84",
   "metadata": {},
   "outputs": [
    {
     "data": {
      "text/plain": [
       "dtype('float64')"
      ]
     },
     "execution_count": 55,
     "metadata": {},
     "output_type": "execute_result"
    }
   ],
   "source": [
    "dataframe['Price']=dataframe['Price'].astype(float)\n",
    "dataframe['Price'].dtype"
   ]
  },
  {
   "cell_type": "markdown",
   "id": "58563733",
   "metadata": {},
   "source": [
    "### clean rating feature"
   ]
  },
  {
   "cell_type": "code",
   "execution_count": 56,
   "id": "e98dea75",
   "metadata": {},
   "outputs": [
    {
     "data": {
      "text/plain": [
       "array([4.1, 3.9, 4.7, 4.5, 4.3, 4.4, 3.8, 4.2, 4.6, 3.2, 4.0, nan, 4.8,\n",
       "       4.9, 3.6, 3.7, 3.3, 3.4, 3.5, 3.1, 5.0, 2.6, 3.0, 1.9, 2.5, 2.8,\n",
       "       2.7, 1.0, 2.9, 2.3, 2.2, 1.7, 2.0, 1.8, 2.4, 1.6, 2.1, 1.4, 1.5,\n",
       "       1.2, '1.9'], dtype=object)"
      ]
     },
     "execution_count": 56,
     "metadata": {},
     "output_type": "execute_result"
    }
   ],
   "source": [
    "dataframe['Rating'].unique()"
   ]
  },
  {
   "cell_type": "code",
   "execution_count": 57,
   "id": "d71011b9",
   "metadata": {},
   "outputs": [],
   "source": [
    "dataframe['Rating'].replace('1.9',1.9,inplace=True)"
   ]
  },
  {
   "cell_type": "code",
   "execution_count": 58,
   "id": "a2de967f",
   "metadata": {},
   "outputs": [
    {
     "data": {
      "text/plain": [
       "dtype('float64')"
      ]
     },
     "execution_count": 58,
     "metadata": {},
     "output_type": "execute_result"
    }
   ],
   "source": [
    "dataframe['Rating'].dtype"
   ]
  },
  {
   "cell_type": "markdown",
   "id": "8a35ec6f",
   "metadata": {},
   "source": [
    "### clean review feature"
   ]
  },
  {
   "cell_type": "code",
   "execution_count": 59,
   "id": "04d70628",
   "metadata": {},
   "outputs": [
    {
     "data": {
      "text/plain": [
       "dtype('float64')"
      ]
     },
     "execution_count": 59,
     "metadata": {},
     "output_type": "execute_result"
    }
   ],
   "source": [
    "dataframe['Reviews']=dataframe['Reviews'].astype(float)\n",
    "dataframe['Reviews'].dtype"
   ]
  },
  {
   "cell_type": "markdown",
   "id": "79403a03",
   "metadata": {},
   "source": [
    "### Data Cleaning for installs"
   ]
  },
  {
   "cell_type": "code",
   "execution_count": 60,
   "id": "064ba0ec",
   "metadata": {},
   "outputs": [
    {
     "data": {
      "text/plain": [
       "0            10,000+\n",
       "1           500,000+\n",
       "2         5,000,000+\n",
       "3        50,000,000+\n",
       "4           100,000+\n",
       "            ...     \n",
       "10836         5,000+\n",
       "10837           100+\n",
       "10838         1,000+\n",
       "10839         1,000+\n",
       "10840    10,000,000+\n",
       "Name: Installs, Length: 10840, dtype: object"
      ]
     },
     "execution_count": 60,
     "metadata": {},
     "output_type": "execute_result"
    }
   ],
   "source": [
    "dataframe['Installs']"
   ]
  },
  {
   "cell_type": "code",
   "execution_count": 61,
   "id": "78fff2b2",
   "metadata": {},
   "outputs": [],
   "source": [
    "def clean_installs(x):\n",
    "    x=x.replace(',','')\n",
    "    return int(x.replace('+',''))"
   ]
  },
  {
   "cell_type": "code",
   "execution_count": 62,
   "id": "9f422ffe",
   "metadata": {},
   "outputs": [
    {
     "data": {
      "text/plain": [
       "dtype('int64')"
      ]
     },
     "execution_count": 62,
     "metadata": {},
     "output_type": "execute_result"
    }
   ],
   "source": [
    "dataframe['Installs']=dataframe['Installs'].apply(clean_installs)\n",
    "dataframe['Installs'].dtype"
   ]
  },
  {
   "cell_type": "markdown",
   "id": "59b405f0",
   "metadata": {},
   "source": [
    "### Data Cleaning on Size feature"
   ]
  },
  {
   "cell_type": "code",
   "execution_count": 63,
   "id": "3842af67",
   "metadata": {},
   "outputs": [
    {
     "data": {
      "text/plain": [
       "0                       19M\n",
       "1                       14M\n",
       "2                      8.7M\n",
       "3                       25M\n",
       "4                      2.8M\n",
       "                ...        \n",
       "10836                   53M\n",
       "10837                  3.6M\n",
       "10838                  9.5M\n",
       "10839    Varies with device\n",
       "10840                   19M\n",
       "Name: Size, Length: 10840, dtype: object"
      ]
     },
     "execution_count": 63,
     "metadata": {},
     "output_type": "execute_result"
    }
   ],
   "source": [
    "dataframe['Size']"
   ]
  },
  {
   "cell_type": "code",
   "execution_count": 64,
   "id": "2e09b9e7",
   "metadata": {},
   "outputs": [],
   "source": [
    "def convert_into_MB(x):\n",
    "    if 'M' in x:\n",
    "        return float(x[0:-1])\n",
    "    else:\n",
    "        mb=float(x[0:-1])/1024\n",
    "        mb=np.round(mb,2)\n",
    "        return mb"
   ]
  },
  {
   "cell_type": "code",
   "execution_count": 65,
   "id": "92b63042",
   "metadata": {},
   "outputs": [],
   "source": [
    "filter=dataframe['Size']=='Varies with device'\n",
    "data_temp=dataframe[~filter]"
   ]
  },
  {
   "cell_type": "code",
   "execution_count": 66,
   "id": "4977ed0c",
   "metadata": {},
   "outputs": [
    {
     "data": {
      "text/plain": [
       "0         19M\n",
       "1         14M\n",
       "2        8.7M\n",
       "3         25M\n",
       "4        2.8M\n",
       "         ... \n",
       "10835    9.6M\n",
       "10836     53M\n",
       "10837    3.6M\n",
       "10838    9.5M\n",
       "10840     19M\n",
       "Name: Size, Length: 9146, dtype: object"
      ]
     },
     "execution_count": 66,
     "metadata": {},
     "output_type": "execute_result"
    }
   ],
   "source": [
    "data_temp['Size']"
   ]
  },
  {
   "cell_type": "code",
   "execution_count": 67,
   "id": "d3ee89e8",
   "metadata": {},
   "outputs": [
    {
     "name": "stderr",
     "output_type": "stream",
     "text": [
      "<ipython-input-67-c1c9fb31a26b>:1: SettingWithCopyWarning: \n",
      "A value is trying to be set on a copy of a slice from a DataFrame.\n",
      "Try using .loc[row_indexer,col_indexer] = value instead\n",
      "\n",
      "See the caveats in the documentation: https://pandas.pydata.org/pandas-docs/stable/user_guide/indexing.html#returning-a-view-versus-a-copy\n",
      "  data_temp['Size']=data_temp['Size'].apply(convert_into_MB)\n"
     ]
    },
    {
     "data": {
      "text/plain": [
       "13.0"
      ]
     },
     "execution_count": 67,
     "metadata": {},
     "output_type": "execute_result"
    }
   ],
   "source": [
    "data_temp['Size']=data_temp['Size'].apply(convert_into_MB)\n",
    "\n",
    "## finding the appropriate value to fill the missing value.\n",
    "data_temp['Size'].median()"
   ]
  },
  {
   "cell_type": "code",
   "execution_count": 68,
   "id": "21af6bbd",
   "metadata": {},
   "outputs": [],
   "source": [
    "dataframe['Size'].replace('Varies with device','13M',inplace=True)"
   ]
  },
  {
   "cell_type": "code",
   "execution_count": 69,
   "id": "332fea53",
   "metadata": {},
   "outputs": [
    {
     "data": {
      "text/plain": [
       "array(['19M', '14M', '8.7M', '25M', '2.8M', '5.6M', '29M', '33M', '3.1M',\n",
       "       '28M', '12M', '20M', '21M', '37M', '2.7M', '5.5M', '17M', '39M',\n",
       "       '31M', '4.2M', '7.0M', '23M', '6.0M', '6.1M', '4.6M', '9.2M',\n",
       "       '5.2M', '11M', '24M', '13M', '9.4M', '15M', '10M', '1.2M', '26M',\n",
       "       '8.0M', '7.9M', '56M', '57M', '35M', '54M', '201k', '3.6M', '5.7M',\n",
       "       '8.6M', '2.4M', '27M', '2.5M', '16M', '3.4M', '8.9M', '3.9M',\n",
       "       '2.9M', '38M', '32M', '5.4M', '18M', '1.1M', '2.2M', '4.5M',\n",
       "       '9.8M', '52M', '9.0M', '6.7M', '30M', '2.6M', '7.1M', '3.7M',\n",
       "       '22M', '7.4M', '6.4M', '3.2M', '8.2M', '9.9M', '4.9M', '9.5M',\n",
       "       '5.0M', '5.9M', '73M', '6.8M', '3.5M', '4.0M', '2.3M', '7.2M',\n",
       "       '2.1M', '42M', '7.3M', '9.1M', '55M', '23k', '6.5M', '1.5M',\n",
       "       '7.5M', '51M', '41M', '48M', '8.5M', '46M', '8.3M', '4.3M', '4.7M',\n",
       "       '3.3M', '40M', '7.8M', '8.8M', '6.6M', '5.1M', '61M', '66M', '79k',\n",
       "       '8.4M', '118k', '44M', '695k', '1.6M', '6.2M', '18k', '53M',\n",
       "       '1.4M', '3.0M', '5.8M', '3.8M', '9.6M', '45M', '63M', '49M', '77M',\n",
       "       '4.4M', '4.8M', '70M', '6.9M', '9.3M', '10.0M', '8.1M', '36M',\n",
       "       '84M', '97M', '2.0M', '1.9M', '1.8M', '5.3M', '47M', '556k',\n",
       "       '526k', '76M', '7.6M', '59M', '9.7M', '78M', '72M', '43M', '7.7M',\n",
       "       '6.3M', '334k', '34M', '93M', '65M', '79M', '100M', '58M', '50M',\n",
       "       '68M', '64M', '67M', '60M', '94M', '232k', '99M', '624k', '95M',\n",
       "       '8.5k', '41k', '292k', '11k', '80M', '1.7M', '74M', '62M', '69M',\n",
       "       '75M', '98M', '85M', '82M', '96M', '87M', '71M', '86M', '91M',\n",
       "       '81M', '92M', '83M', '88M', '704k', '862k', '899k', '378k', '266k',\n",
       "       '375k', '1.3M', '975k', '980k', '4.1M', '89M', '696k', '544k',\n",
       "       '525k', '920k', '779k', '853k', '720k', '713k', '772k', '318k',\n",
       "       '58k', '241k', '196k', '857k', '51k', '953k', '865k', '251k',\n",
       "       '930k', '540k', '313k', '746k', '203k', '26k', '314k', '239k',\n",
       "       '371k', '220k', '730k', '756k', '91k', '293k', '17k', '74k', '14k',\n",
       "       '317k', '78k', '924k', '902k', '818k', '81k', '939k', '169k',\n",
       "       '45k', '475k', '965k', '90M', '545k', '61k', '283k', '655k',\n",
       "       '714k', '93k', '872k', '121k', '322k', '1.0M', '976k', '172k',\n",
       "       '238k', '549k', '206k', '954k', '444k', '717k', '210k', '609k',\n",
       "       '308k', '705k', '306k', '904k', '473k', '175k', '350k', '383k',\n",
       "       '454k', '421k', '70k', '812k', '442k', '842k', '417k', '412k',\n",
       "       '459k', '478k', '335k', '782k', '721k', '430k', '429k', '192k',\n",
       "       '200k', '460k', '728k', '496k', '816k', '414k', '506k', '887k',\n",
       "       '613k', '243k', '569k', '778k', '683k', '592k', '319k', '186k',\n",
       "       '840k', '647k', '191k', '373k', '437k', '598k', '716k', '585k',\n",
       "       '982k', '222k', '219k', '55k', '948k', '323k', '691k', '511k',\n",
       "       '951k', '963k', '25k', '554k', '351k', '27k', '82k', '208k',\n",
       "       '913k', '514k', '551k', '29k', '103k', '898k', '743k', '116k',\n",
       "       '153k', '209k', '353k', '499k', '173k', '597k', '809k', '122k',\n",
       "       '411k', '400k', '801k', '787k', '237k', '50k', '643k', '986k',\n",
       "       '97k', '516k', '837k', '780k', '961k', '269k', '20k', '498k',\n",
       "       '600k', '749k', '642k', '881k', '72k', '656k', '601k', '221k',\n",
       "       '228k', '108k', '940k', '176k', '33k', '663k', '34k', '942k',\n",
       "       '259k', '164k', '458k', '245k', '629k', '28k', '288k', '775k',\n",
       "       '785k', '636k', '916k', '994k', '309k', '485k', '914k', '903k',\n",
       "       '608k', '500k', '54k', '562k', '847k', '957k', '688k', '811k',\n",
       "       '270k', '48k', '329k', '523k', '921k', '874k', '981k', '784k',\n",
       "       '280k', '24k', '518k', '754k', '892k', '154k', '860k', '364k',\n",
       "       '387k', '626k', '161k', '879k', '39k', '970k', '170k', '141k',\n",
       "       '160k', '144k', '143k', '190k', '376k', '193k', '246k', '73k',\n",
       "       '658k', '992k', '253k', '420k', '404k', '470k', '226k', '240k',\n",
       "       '89k', '234k', '257k', '861k', '467k', '157k', '44k', '676k',\n",
       "       '67k', '552k', '885k', '1020k', '582k', '619k'], dtype=object)"
      ]
     },
     "execution_count": 69,
     "metadata": {},
     "output_type": "execute_result"
    }
   ],
   "source": [
    "dataframe['Size'].unique()"
   ]
  },
  {
   "cell_type": "code",
   "execution_count": 70,
   "id": "44614cad",
   "metadata": {},
   "outputs": [
    {
     "data": {
      "text/plain": [
       "dtype('float64')"
      ]
     },
     "execution_count": 70,
     "metadata": {},
     "output_type": "execute_result"
    }
   ],
   "source": [
    "dataframe['Size']=dataframe['Size'].apply(convert_into_MB)\n",
    "dataframe['Size'].dtype"
   ]
  },
  {
   "cell_type": "markdown",
   "id": "795ea73f",
   "metadata": {},
   "source": [
    "### Outliers Detection & Dealing with it.."
   ]
  },
  {
   "cell_type": "markdown",
   "id": "2013be6a",
   "metadata": {},
   "source": [
    "### Outliers removal in Size using 1 std dev"
   ]
  },
  {
   "cell_type": "code",
   "execution_count": 71,
   "id": "495dedac",
   "metadata": {},
   "outputs": [
    {
     "name": "stderr",
     "output_type": "stream",
     "text": [
      "C:\\Users\\anusha\\anaconda3\\lib\\site-packages\\seaborn\\distributions.py:2619: FutureWarning: `distplot` is a deprecated function and will be removed in a future version. Please adapt your code to use either `displot` (a figure-level function with similar flexibility) or `histplot` (an axes-level function for histograms).\n",
      "  warnings.warn(msg, FutureWarning)\n"
     ]
    },
    {
     "data": {
      "text/plain": [
       "<AxesSubplot:xlabel='Size', ylabel='Density'>"
      ]
     },
     "execution_count": 71,
     "metadata": {},
     "output_type": "execute_result"
    },
    {
     "data": {
      "image/png": "[encoded data removed]",
      "text/plain": [
       "<Figure size 432x288 with 1 Axes>"
      ]
     },
     "metadata": {
      "needs_background": "light"
     },
     "output_type": "display_data"
    }
   ],
   "source": [
    "sns.distplot(dataframe['Size'])"
   ]
  },
  {
   "cell_type": "code",
   "execution_count": 72,
   "id": "eb0f0cea",
   "metadata": {},
   "outputs": [],
   "source": [
    "# whatever data is outside of (mean +- 1*std dev) , just remove it..\n",
    "def remove_outliers_sd(df,feature):\n",
    "    df_out=pd.DataFrame()\n",
    "    for key,subdf in df.groupby('Type'):\n",
    "        m=np.mean(subdf[feature])\n",
    "        sd=np.std(subdf[feature])\n",
    "        reduced_df=subdf[(subdf[feature]>(m-sd)) & (subdf[feature]<=(m+sd))]\n",
    "        \n",
    "        df_out=pd.concat([df_out,reduced_df],ignore_index=True)\n",
    "    return df_out"
   ]
  },
  {
   "cell_type": "code",
   "execution_count": 73,
   "id": "4c2e2f68",
   "metadata": {},
   "outputs": [
    {
     "data": {
      "text/html": [
       "<div>\n",
       "<style scoped>\n",
       "    .dataframe tbody tr th:only-of-type {\n",
       "        vertical-align: middle;\n",
       "    }\n",
       "\n",
       "    .dataframe tbody tr th {\n",
       "        vertical-align: top;\n",
       "    }\n",
       "\n",
       "    .dataframe thead th {\n",
       "        text-align: right;\n",
       "    }\n",
       "</style>\n",
       "<table border=\"1\" class=\"dataframe\">\n",
       "  <thead>\n",
       "    <tr style=\"text-align: right;\">\n",
       "      <th></th>\n",
       "      <th>App</th>\n",
       "      <th>Category</th>\n",
       "      <th>Rating</th>\n",
       "      <th>Reviews</th>\n",
       "      <th>Size</th>\n",
       "      <th>Installs</th>\n",
       "      <th>Type</th>\n",
       "      <th>Price</th>\n",
       "      <th>Content Rating</th>\n",
       "      <th>Genres</th>\n",
       "      <th>Last Updated</th>\n",
       "      <th>Current Ver</th>\n",
       "      <th>Android Ver</th>\n",
       "      <th>year_added</th>\n",
       "      <th>month_added</th>\n",
       "    </tr>\n",
       "  </thead>\n",
       "  <tbody>\n",
       "    <tr>\n",
       "      <th>0</th>\n",
       "      <td>Photo Editor &amp; Candy Camera &amp; Grid &amp; ScrapBook</td>\n",
       "      <td>ART_AND_DESIGN</td>\n",
       "      <td>4.1</td>\n",
       "      <td>159.0</td>\n",
       "      <td>19.0</td>\n",
       "      <td>10000</td>\n",
       "      <td>Free</td>\n",
       "      <td>0.0</td>\n",
       "      <td>Everyone</td>\n",
       "      <td>Art &amp; Design</td>\n",
       "      <td>2018-01-07</td>\n",
       "      <td>1.0.0</td>\n",
       "      <td>4.0.3 and up</td>\n",
       "      <td>2018</td>\n",
       "      <td>1</td>\n",
       "    </tr>\n",
       "    <tr>\n",
       "      <th>1</th>\n",
       "      <td>Coloring book moana</td>\n",
       "      <td>ART_AND_DESIGN</td>\n",
       "      <td>3.9</td>\n",
       "      <td>967.0</td>\n",
       "      <td>14.0</td>\n",
       "      <td>500000</td>\n",
       "      <td>Free</td>\n",
       "      <td>0.0</td>\n",
       "      <td>Everyone</td>\n",
       "      <td>Art &amp; Design;Pretend Play</td>\n",
       "      <td>2018-01-15</td>\n",
       "      <td>2.0.0</td>\n",
       "      <td>4.0.3 and up</td>\n",
       "      <td>2018</td>\n",
       "      <td>1</td>\n",
       "    </tr>\n",
       "  </tbody>\n",
       "</table>\n",
       "</div>"
      ],
      "text/plain": [
       "                                              App        Category  Rating  \\\n",
       "0  Photo Editor & Candy Camera & Grid & ScrapBook  ART_AND_DESIGN     4.1   \n",
       "1                             Coloring book moana  ART_AND_DESIGN     3.9   \n",
       "\n",
       "   Reviews  Size  Installs  Type  Price Content Rating  \\\n",
       "0    159.0  19.0     10000  Free    0.0       Everyone   \n",
       "1    967.0  14.0    500000  Free    0.0       Everyone   \n",
       "\n",
       "                      Genres Last Updated Current Ver   Android Ver  \\\n",
       "0               Art & Design   2018-01-07       1.0.0  4.0.3 and up   \n",
       "1  Art & Design;Pretend Play   2018-01-15       2.0.0  4.0.3 and up   \n",
       "\n",
       "   year_added  month_added  \n",
       "0        2018            1  \n",
       "1        2018            1  "
      ]
     },
     "execution_count": 73,
     "metadata": {},
     "output_type": "execute_result"
    }
   ],
   "source": [
    "op=remove_outliers_sd(dataframe,'Size')\n",
    "op.head(2)\n"
   ]
  },
  {
   "cell_type": "code",
   "execution_count": 74,
   "id": "ec8ea89f",
   "metadata": {},
   "outputs": [
    {
     "name": "stderr",
     "output_type": "stream",
     "text": [
      "C:\\Users\\anusha\\anaconda3\\lib\\site-packages\\seaborn\\distributions.py:2619: FutureWarning: `distplot` is a deprecated function and will be removed in a future version. Please adapt your code to use either `displot` (a figure-level function with similar flexibility) or `histplot` (an axes-level function for histograms).\n",
      "  warnings.warn(msg, FutureWarning)\n"
     ]
    },
    {
     "data": {
      "text/plain": [
       "<AxesSubplot:xlabel='Size', ylabel='Density'>"
      ]
     },
     "execution_count": 74,
     "metadata": {},
     "output_type": "execute_result"
    },
    {
     "data": {
      "image/png": "[encoded data removed]",
      "text/plain": [
       "<Figure size 432x288 with 1 Axes>"
      ]
     },
     "metadata": {
      "needs_background": "light"
     },
     "output_type": "display_data"
    }
   ],
   "source": [
    "sns.distplot(op['Size'])"
   ]
  },
  {
   "cell_type": "markdown",
   "id": "f2fbe879",
   "metadata": {},
   "source": [
    "### Outliers in Installs using IQR(Interquantile Range)"
   ]
  },
  {
   "cell_type": "code",
   "execution_count": 75,
   "id": "a88f2c99",
   "metadata": {},
   "outputs": [
    {
     "name": "stderr",
     "output_type": "stream",
     "text": [
      "C:\\Users\\anusha\\anaconda3\\lib\\site-packages\\seaborn\\distributions.py:2619: FutureWarning: `distplot` is a deprecated function and will be removed in a future version. Please adapt your code to use either `displot` (a figure-level function with similar flexibility) or `histplot` (an axes-level function for histograms).\n",
      "  warnings.warn(msg, FutureWarning)\n"
     ]
    },
    {
     "data": {
      "text/plain": [
       "<AxesSubplot:xlabel='Installs', ylabel='Density'>"
      ]
     },
     "execution_count": 75,
     "metadata": {},
     "output_type": "execute_result"
    },
    {
     "data": {
      "image/png": "[encoded data removed]",
      "text/plain": [
       "<Figure size 432x288 with 1 Axes>"
      ]
     },
     "metadata": {
      "needs_background": "light"
     },
     "output_type": "display_data"
    }
   ],
   "source": [
    "sns.distplot(op['Installs'])"
   ]
  },
  {
   "cell_type": "code",
   "execution_count": 76,
   "id": "4ac71a0f",
   "metadata": {},
   "outputs": [
    {
     "name": "stderr",
     "output_type": "stream",
     "text": [
      "C:\\Users\\anusha\\anaconda3\\lib\\site-packages\\seaborn\\_decorators.py:36: FutureWarning: Pass the following variable as a keyword arg: x. From version 0.12, the only valid positional argument will be `data`, and passing other arguments without an explicit keyword will result in an error or misinterpretation.\n",
      "  warnings.warn(\n"
     ]
    },
    {
     "data": {
      "text/plain": [
       "<AxesSubplot:xlabel='Installs'>"
      ]
     },
     "execution_count": 76,
     "metadata": {},
     "output_type": "execute_result"
    },
    {
     "data": {
      "image/png": "[encoded data removed]",
      "text/plain": [
       "<Figure size 432x288 with 1 Axes>"
      ]
     },
     "metadata": {
      "needs_background": "light"
     },
     "output_type": "display_data"
    }
   ],
   "source": [
    "sns.boxplot(op['Installs'])"
   ]
  },
  {
   "cell_type": "code",
   "execution_count": 77,
   "id": "9e036afd",
   "metadata": {},
   "outputs": [
    {
     "data": {
      "text/plain": [
       "999000.0"
      ]
     },
     "execution_count": 77,
     "metadata": {},
     "output_type": "execute_result"
    }
   ],
   "source": [
    "q1=op['Installs'].quantile(0.25)\n",
    "q3=op['Installs'].quantile(0.75)\n",
    "iqr=q3-q1\n",
    "iqr"
   ]
  },
  {
   "cell_type": "code",
   "execution_count": 78,
   "id": "d3779adc",
   "metadata": {},
   "outputs": [
    {
     "name": "stdout",
     "output_type": "stream",
     "text": [
      "lower tail is:  -1497500.0\n",
      "upper tail is:  2498500.0\n"
     ]
    }
   ],
   "source": [
    "lower_tail=q1-1.5*iqr\n",
    "print('lower tail is: ',lower_tail)\n",
    "upper_tail=q3+1.5*iqr\n",
    "print('upper tail is: ',upper_tail)"
   ]
  },
  {
   "cell_type": "code",
   "execution_count": 79,
   "id": "3ce7b7fc",
   "metadata": {},
   "outputs": [],
   "source": [
    "outliers=[]\n",
    "\n",
    "for install in op['Installs']:\n",
    "    if install > upper_tail or install < lower_tail:\n",
    "        outliers.append(install)\n",
    "    else:\n",
    "        continue"
   ]
  },
  {
   "cell_type": "code",
   "execution_count": 80,
   "id": "8c5f1ab9",
   "metadata": {},
   "outputs": [
    {
     "data": {
      "text/plain": [
       "2207"
      ]
     },
     "execution_count": 80,
     "metadata": {},
     "output_type": "execute_result"
    }
   ],
   "source": [
    "len(outliers)"
   ]
  },
  {
   "cell_type": "code",
   "execution_count": 81,
   "id": "e92b226c",
   "metadata": {},
   "outputs": [],
   "source": [
    "### Replace Outliers with the median value\n",
    "\n",
    "for install in op['Installs']:\n",
    "    if install > upper_tail or install < lower_tail:\n",
    "        op['Installs']=op['Installs'].replace(install,np.median(op['Installs']))\n",
    "    else:\n",
    "        continue"
   ]
  },
  {
   "cell_type": "code",
   "execution_count": 82,
   "id": "5fdab409",
   "metadata": {},
   "outputs": [
    {
     "name": "stderr",
     "output_type": "stream",
     "text": [
      "C:\\Users\\anusha\\anaconda3\\lib\\site-packages\\seaborn\\distributions.py:2619: FutureWarning: `distplot` is a deprecated function and will be removed in a future version. Please adapt your code to use either `displot` (a figure-level function with similar flexibility) or `histplot` (an axes-level function for histograms).\n",
      "  warnings.warn(msg, FutureWarning)\n"
     ]
    },
    {
     "data": {
      "text/plain": [
       "<AxesSubplot:xlabel='Installs', ylabel='Density'>"
      ]
     },
     "execution_count": 82,
     "metadata": {},
     "output_type": "execute_result"
    },
    {
     "data": {
      "image/png": "[encoded data removed]",
      "text/plain": [
       "<Figure size 432x288 with 1 Axes>"
      ]
     },
     "metadata": {
      "needs_background": "light"
     },
     "output_type": "display_data"
    }
   ],
   "source": [
    "sns.distplot(op['Installs'])"
   ]
  },
  {
   "cell_type": "code",
   "execution_count": 83,
   "id": "81a2a08b",
   "metadata": {},
   "outputs": [
    {
     "name": "stderr",
     "output_type": "stream",
     "text": [
      "C:\\Users\\anusha\\anaconda3\\lib\\site-packages\\seaborn\\_decorators.py:36: FutureWarning: Pass the following variable as a keyword arg: x. From version 0.12, the only valid positional argument will be `data`, and passing other arguments without an explicit keyword will result in an error or misinterpretation.\n",
      "  warnings.warn(\n"
     ]
    },
    {
     "data": {
      "text/plain": [
       "<AxesSubplot:xlabel='Installs'>"
      ]
     },
     "execution_count": 83,
     "metadata": {},
     "output_type": "execute_result"
    },
    {
     "data": {
      "image/png": "[encoded data removed]",
      "text/plain": [
       "<Figure size 432x288 with 1 Axes>"
      ]
     },
     "metadata": {
      "needs_background": "light"
     },
     "output_type": "display_data"
    }
   ],
   "source": [
    "sns.boxplot(op['Installs'])"
   ]
  },
  {
   "cell_type": "code",
   "execution_count": 84,
   "id": "e51fe96b",
   "metadata": {},
   "outputs": [],
   "source": [
    "op2=op.copy()"
   ]
  },
  {
   "cell_type": "markdown",
   "id": "9dae7eb2",
   "metadata": {},
   "source": [
    "### Outliers in Reviews"
   ]
  },
  {
   "cell_type": "code",
   "execution_count": 85,
   "id": "c3ba326c",
   "metadata": {},
   "outputs": [
    {
     "name": "stderr",
     "output_type": "stream",
     "text": [
      "C:\\Users\\anusha\\anaconda3\\lib\\site-packages\\seaborn\\_decorators.py:36: FutureWarning: Pass the following variable as a keyword arg: x. From version 0.12, the only valid positional argument will be `data`, and passing other arguments without an explicit keyword will result in an error or misinterpretation.\n",
      "  warnings.warn(\n"
     ]
    },
    {
     "data": {
      "text/plain": [
       "<AxesSubplot:xlabel='Reviews'>"
      ]
     },
     "execution_count": 85,
     "metadata": {},
     "output_type": "execute_result"
    },
    {
     "data": {
      "image/png": "[encoded data removed]",
      "text/plain": [
       "<Figure size 432x288 with 1 Axes>"
      ]
     },
     "metadata": {
      "needs_background": "light"
     },
     "output_type": "display_data"
    }
   ],
   "source": [
    "sns.boxplot(op2['Reviews'])"
   ]
  },
  {
   "cell_type": "code",
   "execution_count": 86,
   "id": "1a2d9ce5",
   "metadata": {},
   "outputs": [
    {
     "data": {
      "text/plain": [
       "(58, 15)"
      ]
     },
     "execution_count": 86,
     "metadata": {},
     "output_type": "execute_result"
    }
   ],
   "source": [
    "### Considering the value of 1e7(10^6) as Threshold value.\n",
    "\n",
    "## data points that are > than 1e7 are outliers\n",
    "threshold=1e7\n",
    "op2[op2['Reviews']>threshold].shape"
   ]
  },
  {
   "cell_type": "code",
   "execution_count": 87,
   "id": "7eff11f9",
   "metadata": {},
   "outputs": [
    {
     "name": "stdout",
     "output_type": "stream",
     "text": [
      "median is:  1192.0\n",
      "mean is:  349258.57628755365\n"
     ]
    }
   ],
   "source": [
    "print('median is: ',op2['Reviews'].median())\n",
    "print('mean is: ',op2['Reviews'].mean())"
   ]
  },
  {
   "cell_type": "markdown",
   "id": "c26992fe",
   "metadata": {},
   "source": [
    "#### Replacing Outliers with the Median.."
   ]
  },
  {
   "cell_type": "code",
   "execution_count": 88,
   "id": "e9e8d42d",
   "metadata": {},
   "outputs": [],
   "source": [
    "op2['Reviews']=np.where(op2['Reviews']>threshold,op2['Reviews'].median(),op2['Reviews'])"
   ]
  },
  {
   "cell_type": "code",
   "execution_count": 89,
   "id": "a9d1d084",
   "metadata": {},
   "outputs": [
    {
     "name": "stdout",
     "output_type": "stream",
     "text": [
      "median is:  1190.5\n",
      "mean is:  193907.85922746782\n"
     ]
    }
   ],
   "source": [
    "print('median is: ',op2['Reviews'].median())\n",
    "print('mean is: ',op2['Reviews'].mean())"
   ]
  },
  {
   "cell_type": "code",
   "execution_count": 90,
   "id": "723c61b3",
   "metadata": {},
   "outputs": [
    {
     "name": "stderr",
     "output_type": "stream",
     "text": [
      "C:\\Users\\anusha\\anaconda3\\lib\\site-packages\\seaborn\\_decorators.py:36: FutureWarning: Pass the following variable as a keyword arg: x. From version 0.12, the only valid positional argument will be `data`, and passing other arguments without an explicit keyword will result in an error or misinterpretation.\n",
      "  warnings.warn(\n"
     ]
    },
    {
     "data": {
      "text/plain": [
       "<AxesSubplot:xlabel='Reviews'>"
      ]
     },
     "execution_count": 90,
     "metadata": {},
     "output_type": "execute_result"
    },
    {
     "data": {
      "image/png": "[encoded data removed]",
      "text/plain": [
       "<Figure size 432x288 with 1 Axes>"
      ]
     },
     "metadata": {
      "needs_background": "light"
     },
     "output_type": "display_data"
    }
   ],
   "source": [
    "sns.boxplot(op2['Reviews'])"
   ]
  },
  {
   "cell_type": "code",
   "execution_count": 91,
   "id": "23065b5a",
   "metadata": {},
   "outputs": [
    {
     "name": "stderr",
     "output_type": "stream",
     "text": [
      "C:\\Users\\anusha\\anaconda3\\lib\\site-packages\\seaborn\\distributions.py:2619: FutureWarning: `distplot` is a deprecated function and will be removed in a future version. Please adapt your code to use either `displot` (a figure-level function with similar flexibility) or `histplot` (an axes-level function for histograms).\n",
      "  warnings.warn(msg, FutureWarning)\n"
     ]
    },
    {
     "data": {
      "text/plain": [
       "<AxesSubplot:xlabel='Reviews', ylabel='Density'>"
      ]
     },
     "execution_count": 91,
     "metadata": {},
     "output_type": "execute_result"
    },
    {
     "data": {
      "image/png": "[encoded data removed]",
      "text/plain": [
       "<Figure size 432x288 with 1 Axes>"
      ]
     },
     "metadata": {
      "needs_background": "light"
     },
     "output_type": "display_data"
    }
   ],
   "source": [
    "sns.distplot(op2['Reviews'])"
   ]
  },
  {
   "cell_type": "markdown",
   "id": "17ac85ae",
   "metadata": {},
   "source": [
    "- ***Still lots of right skewness***\n",
    "- ***we can Log transformation to remove this positive skewness(high outliers)***"
   ]
  },
  {
   "cell_type": "markdown",
   "id": "23ee6225",
   "metadata": {},
   "source": [
    "### Applying Log Transformation"
   ]
  },
  {
   "cell_type": "code",
   "execution_count": 92,
   "id": "83437208",
   "metadata": {},
   "outputs": [],
   "source": [
    "op2['Reviews']=np.log1p(op2['Reviews'])"
   ]
  },
  {
   "cell_type": "code",
   "execution_count": 93,
   "id": "2e8bb24e",
   "metadata": {},
   "outputs": [
    {
     "name": "stderr",
     "output_type": "stream",
     "text": [
      "C:\\Users\\anusha\\anaconda3\\lib\\site-packages\\seaborn\\distributions.py:2619: FutureWarning: `distplot` is a deprecated function and will be removed in a future version. Please adapt your code to use either `displot` (a figure-level function with similar flexibility) or `histplot` (an axes-level function for histograms).\n",
      "  warnings.warn(msg, FutureWarning)\n"
     ]
    },
    {
     "data": {
      "text/plain": [
       "<AxesSubplot:xlabel='Reviews', ylabel='Density'>"
      ]
     },
     "execution_count": 93,
     "metadata": {},
     "output_type": "execute_result"
    },
    {
     "data": {
      "image/png": "[encoded data removed]",
      "text/plain": [
       "<Figure size 432x288 with 1 Axes>"
      ]
     },
     "metadata": {
      "needs_background": "light"
     },
     "output_type": "display_data"
    }
   ],
   "source": [
    "sns.distplot(op2['Reviews'])"
   ]
  },
  {
   "cell_type": "markdown",
   "id": "09007be6",
   "metadata": {},
   "source": [
    "### Filling missing values"
   ]
  },
  {
   "cell_type": "markdown",
   "id": "3d2c0541",
   "metadata": {},
   "source": [
    "#### lets fill out missing values first in Rating"
   ]
  },
  {
   "cell_type": "code",
   "execution_count": 94,
   "id": "2f549f4e",
   "metadata": {},
   "outputs": [
    {
     "data": {
      "text/plain": [
       "1396"
      ]
     },
     "execution_count": 94,
     "metadata": {},
     "output_type": "execute_result"
    }
   ],
   "source": [
    "op2['Rating'].isnull().sum()"
   ]
  },
  {
   "cell_type": "code",
   "execution_count": 95,
   "id": "4a39c6e7",
   "metadata": {},
   "outputs": [
    {
     "data": {
      "text/plain": [
       "<AxesSubplot:xlabel='Content Rating', ylabel='Rating'>"
      ]
     },
     "execution_count": 95,
     "metadata": {},
     "output_type": "execute_result"
    },
    {
     "data": {
      "image/png": "[encoded data removed]",
      "text/plain": [
       "<Figure size 432x288 with 1 Axes>"
      ]
     },
     "metadata": {
      "needs_background": "light"
     },
     "output_type": "display_data"
    }
   ],
   "source": [
    "sns.boxplot(x='Content Rating',y='Rating',data=op2)\n",
    "\n",
    "#we can visualise in box plot that,for class Everyone,avg rating is somewhere around 4.3,\n",
    "## for Teen,it is around approx 4.3, "
   ]
  },
  {
   "cell_type": "code",
   "execution_count": 96,
   "id": "da663f71",
   "metadata": {},
   "outputs": [
    {
     "data": {
      "text/plain": [
       "Content Rating\n",
       "Adults only 18+    4.5\n",
       "Everyone           4.3\n",
       "Everyone 10+       4.3\n",
       "Mature 17+         4.2\n",
       "Teen               4.3\n",
       "Unrated            4.1\n",
       "Name: Rating, dtype: float64"
      ]
     },
     "execution_count": 96,
     "metadata": {},
     "output_type": "execute_result"
    }
   ],
   "source": [
    "op2.groupby('Content Rating')['Rating'].median()"
   ]
  },
  {
   "cell_type": "code",
   "execution_count": 97,
   "id": "ab90c8a2",
   "metadata": {},
   "outputs": [
    {
     "data": {
      "text/plain": [
       "Content Rating\n",
       "Adults only 18+    4.300000\n",
       "Everyone           4.178822\n",
       "Everyone 10+       4.213910\n",
       "Mature 17+         4.103448\n",
       "Teen               4.212376\n",
       "Unrated            4.100000\n",
       "Name: Rating, dtype: float64"
      ]
     },
     "execution_count": 97,
     "metadata": {},
     "output_type": "execute_result"
    }
   ],
   "source": [
    "op2.groupby('Content Rating')['Rating'].mean()"
   ]
  },
  {
   "cell_type": "code",
   "execution_count": 98,
   "id": "caead615",
   "metadata": {},
   "outputs": [],
   "source": [
    "# A func where we r giving rating & content rating col in a list(cols)\n",
    "\n",
    "def impute_Rating(cols):\n",
    "    \n",
    "    #first col is rating,2nd col is basically content rating..\n",
    "    Rating=cols[0]\n",
    "    Content_rating=cols[1]\n",
    "    \n",
    "    #ie if there is a null value in a col\n",
    "    if pd.isnull(Rating):\n",
    "        if Content_rating=='Adults only 18+':\n",
    "            return 4.3\n",
    "        elif Content_rating=='Everyone':\n",
    "            return 4.17\n",
    "        elif Content_rating=='Everyone 10+':\n",
    "            return 4.21\n",
    "        elif Content_rating=='Mature 17+':\n",
    "            return 4.10\n",
    "        elif Content_rating=='Teen':\n",
    "            return 4.21\n",
    "        else:\n",
    "            return 4.10\n",
    "        \n",
    "    #when not null we basically return rating value     \n",
    "    else:\n",
    "        return Rating"
   ]
  },
  {
   "cell_type": "code",
   "execution_count": 99,
   "id": "1abf6e69",
   "metadata": {},
   "outputs": [],
   "source": [
    "#apply func\n",
    "op2['Rating']=op2[['Rating','Content Rating']].apply(impute_Rating,axis=1)"
   ]
  },
  {
   "cell_type": "code",
   "execution_count": 100,
   "id": "a31a7ff9",
   "metadata": {},
   "outputs": [
    {
     "data": {
      "text/plain": [
       "0"
      ]
     },
     "execution_count": 100,
     "metadata": {},
     "output_type": "execute_result"
    }
   ],
   "source": [
    "op2['Rating'].isnull().sum()"
   ]
  },
  {
   "cell_type": "code",
   "execution_count": 101,
   "id": "9e189364",
   "metadata": {},
   "outputs": [
    {
     "data": {
      "text/plain": [
       "<AxesSubplot:>"
      ]
     },
     "execution_count": 101,
     "metadata": {},
     "output_type": "execute_result"
    },
    {
     "data": {
      "image/png": "[encoded data removed]",
      "text/plain": [
       "<Figure size 432x288 with 1 Axes>"
      ]
     },
     "metadata": {
      "needs_background": "light"
     },
     "output_type": "display_data"
    }
   ],
   "source": [
    "op2['Rating'].hist()"
   ]
  },
  {
   "cell_type": "markdown",
   "id": "79b65e8a",
   "metadata": {},
   "source": [
    "- as our Dependent feature count is varying alot  , as it is not a Normally distributed data  , as count of 4.1 is too high\n",
    "- so if we will build a model considering this Rating feature ,our model accuracy gets fluctauted alot\n",
    "\n",
    "- so we will do some manipulations on Rating & convert it into Discrete nature.."
   ]
  },
  {
   "cell_type": "code",
   "execution_count": 102,
   "id": "d90e02e3",
   "metadata": {},
   "outputs": [],
   "source": [
    "def convert(x):\n",
    "    if x>0.0 and x<=1.5:\n",
    "        return 1\n",
    "    elif x>1.5 and x<=2.5:\n",
    "        return 2\n",
    "    elif x>2.5 and x<=3.5:\n",
    "        return 3\n",
    "    elif x>3.5 and x<=4.5:\n",
    "        return 4\n",
    "    else:\n",
    "        return 5"
   ]
  },
  {
   "cell_type": "code",
   "execution_count": 103,
   "id": "284da0e0",
   "metadata": {},
   "outputs": [
    {
     "data": {
      "text/html": [
       "<div>\n",
       "<style scoped>\n",
       "    .dataframe tbody tr th:only-of-type {\n",
       "        vertical-align: middle;\n",
       "    }\n",
       "\n",
       "    .dataframe tbody tr th {\n",
       "        vertical-align: top;\n",
       "    }\n",
       "\n",
       "    .dataframe thead th {\n",
       "        text-align: right;\n",
       "    }\n",
       "</style>\n",
       "<table border=\"1\" class=\"dataframe\">\n",
       "  <thead>\n",
       "    <tr style=\"text-align: right;\">\n",
       "      <th></th>\n",
       "      <th>App</th>\n",
       "      <th>Category</th>\n",
       "      <th>Rating</th>\n",
       "      <th>Reviews</th>\n",
       "      <th>Size</th>\n",
       "      <th>Installs</th>\n",
       "      <th>Type</th>\n",
       "      <th>Price</th>\n",
       "      <th>Content Rating</th>\n",
       "      <th>Genres</th>\n",
       "      <th>Last Updated</th>\n",
       "      <th>Current Ver</th>\n",
       "      <th>Android Ver</th>\n",
       "      <th>year_added</th>\n",
       "      <th>month_added</th>\n",
       "    </tr>\n",
       "  </thead>\n",
       "  <tbody>\n",
       "    <tr>\n",
       "      <th>0</th>\n",
       "      <td>Photo Editor &amp; Candy Camera &amp; Grid &amp; ScrapBook</td>\n",
       "      <td>ART_AND_DESIGN</td>\n",
       "      <td>4</td>\n",
       "      <td>5.075174</td>\n",
       "      <td>19.0</td>\n",
       "      <td>10000</td>\n",
       "      <td>Free</td>\n",
       "      <td>0.0</td>\n",
       "      <td>Everyone</td>\n",
       "      <td>Art &amp; Design</td>\n",
       "      <td>2018-01-07</td>\n",
       "      <td>1.0.0</td>\n",
       "      <td>4.0.3 and up</td>\n",
       "      <td>2018</td>\n",
       "      <td>1</td>\n",
       "    </tr>\n",
       "    <tr>\n",
       "      <th>1</th>\n",
       "      <td>Coloring book moana</td>\n",
       "      <td>ART_AND_DESIGN</td>\n",
       "      <td>4</td>\n",
       "      <td>6.875232</td>\n",
       "      <td>14.0</td>\n",
       "      <td>500000</td>\n",
       "      <td>Free</td>\n",
       "      <td>0.0</td>\n",
       "      <td>Everyone</td>\n",
       "      <td>Art &amp; Design;Pretend Play</td>\n",
       "      <td>2018-01-15</td>\n",
       "      <td>2.0.0</td>\n",
       "      <td>4.0.3 and up</td>\n",
       "      <td>2018</td>\n",
       "      <td>1</td>\n",
       "    </tr>\n",
       "  </tbody>\n",
       "</table>\n",
       "</div>"
      ],
      "text/plain": [
       "                                              App        Category  Rating  \\\n",
       "0  Photo Editor & Candy Camera & Grid & ScrapBook  ART_AND_DESIGN       4   \n",
       "1                             Coloring book moana  ART_AND_DESIGN       4   \n",
       "\n",
       "    Reviews  Size  Installs  Type  Price Content Rating  \\\n",
       "0  5.075174  19.0     10000  Free    0.0       Everyone   \n",
       "1  6.875232  14.0    500000  Free    0.0       Everyone   \n",
       "\n",
       "                      Genres Last Updated Current Ver   Android Ver  \\\n",
       "0               Art & Design   2018-01-07       1.0.0  4.0.3 and up   \n",
       "1  Art & Design;Pretend Play   2018-01-15       2.0.0  4.0.3 and up   \n",
       "\n",
       "   year_added  month_added  \n",
       "0        2018            1  \n",
       "1        2018            1  "
      ]
     },
     "execution_count": 103,
     "metadata": {},
     "output_type": "execute_result"
    }
   ],
   "source": [
    "op2['Rating']=op2['Rating'].apply(convert)\n",
    "op2.head(2)"
   ]
  },
  {
   "cell_type": "code",
   "execution_count": 104,
   "id": "f3231399",
   "metadata": {},
   "outputs": [
    {
     "name": "stderr",
     "output_type": "stream",
     "text": [
      "C:\\Users\\anusha\\anaconda3\\lib\\site-packages\\seaborn\\_decorators.py:36: FutureWarning: Pass the following variable as a keyword arg: x. From version 0.12, the only valid positional argument will be `data`, and passing other arguments without an explicit keyword will result in an error or misinterpretation.\n",
      "  warnings.warn(\n"
     ]
    },
    {
     "data": {
      "text/plain": [
       "<AxesSubplot:xlabel='Rating', ylabel='count'>"
      ]
     },
     "execution_count": 104,
     "metadata": {},
     "output_type": "execute_result"
    },
    {
     "data": {
      "image/png": "[encoded data removed]",
      "text/plain": [
       "<Figure size 432x288 with 1 Axes>"
      ]
     },
     "metadata": {
      "needs_background": "light"
     },
     "output_type": "display_data"
    }
   ],
   "source": [
    "sns.countplot(op2['Rating'])"
   ]
  },
  {
   "cell_type": "code",
   "execution_count": 105,
   "id": "0e744a74",
   "metadata": {},
   "outputs": [],
   "source": [
    "final=op2.copy()"
   ]
  },
  {
   "cell_type": "markdown",
   "id": "a371912a",
   "metadata": {},
   "source": [
    "## Feature Encoding"
   ]
  },
  {
   "cell_type": "code",
   "execution_count": 106,
   "id": "2dbd23f7",
   "metadata": {},
   "outputs": [
    {
     "data": {
      "text/plain": [
       "Index(['App', 'Category', 'Rating', 'Reviews', 'Size', 'Installs', 'Type',\n",
       "       'Price', 'Content Rating', 'Genres', 'Last Updated', 'Current Ver',\n",
       "       'Android Ver', 'year_added', 'month_added'],\n",
       "      dtype='object')"
      ]
     },
     "execution_count": 106,
     "metadata": {},
     "output_type": "execute_result"
    }
   ],
   "source": [
    "final.columns"
   ]
  },
  {
   "cell_type": "markdown",
   "id": "19b18d8c",
   "metadata": {},
   "source": [
    "#### Perform Mean Encoding on Cateogry"
   ]
  },
  {
   "cell_type": "code",
   "execution_count": 107,
   "id": "0195a141",
   "metadata": {},
   "outputs": [
    {
     "data": {
      "text/plain": [
       "{'ART_AND_DESIGN': 4.3076923076923075,\n",
       " 'AUTO_AND_VEHICLES': 4.157894736842105,\n",
       " 'BEAUTY': 4.2,\n",
       " 'BOOKS_AND_REFERENCE': 4.223744292237443,\n",
       " 'BUSINESS': 4.020642201834862,\n",
       " 'COMICS': 4.033333333333333,\n",
       " 'COMMUNICATION': 3.9894459102902373,\n",
       " 'DATING': 3.891891891891892,\n",
       " 'EDUCATION': 4.309859154929577,\n",
       " 'ENTERTAINMENT': 4.022058823529412,\n",
       " 'EVENTS': 4.258064516129032,\n",
       " 'FAMILY': 4.076294277929155,\n",
       " 'FINANCE': 4.04179104477612,\n",
       " 'FOOD_AND_DRINK': 4.112068965517241,\n",
       " 'GAME': 4.1397515527950315,\n",
       " 'HEALTH_AND_FITNESS': 4.176470588235294,\n",
       " 'HOUSE_AND_HOME': 4.095238095238095,\n",
       " 'LIBRARIES_AND_DEMO': 4.075,\n",
       " 'LIFESTYLE': 4.06371191135734,\n",
       " 'MAPS_AND_NAVIGATION': 3.928,\n",
       " 'MEDICAL': 4.093525179856115,\n",
       " 'NEWS_AND_MAGAZINES': 4.0321428571428575,\n",
       " 'PARENTING': 4.26,\n",
       " 'PERSONALIZATION': 4.164021164021164,\n",
       " 'PHOTOGRAPHY': 4.03,\n",
       " 'PRODUCTIVITY': 4.094292803970223,\n",
       " 'SHOPPING': 4.128514056224899,\n",
       " 'SOCIAL': 4.100371747211896,\n",
       " 'SPORTS': 4.080597014925373,\n",
       " 'TOOLS': 3.9613059250302296,\n",
       " 'TRAVEL_AND_LOCAL': 3.995475113122172,\n",
       " 'VIDEO_PLAYERS': 3.9440993788819876,\n",
       " 'WEATHER': 4.075}"
      ]
     },
     "execution_count": 107,
     "metadata": {},
     "output_type": "execute_result"
    }
   ],
   "source": [
    "mean_ordinal=final.groupby('Category')['Rating'].mean().to_dict()\n",
    "mean_ordinal"
   ]
  },
  {
   "cell_type": "code",
   "execution_count": 108,
   "id": "34d68196",
   "metadata": {},
   "outputs": [
    {
     "data": {
      "text/plain": [
       "0       4.307692\n",
       "1       4.307692\n",
       "2       4.307692\n",
       "3       4.307692\n",
       "4       4.307692\n",
       "          ...   \n",
       "9315    4.076294\n",
       "9316    4.176471\n",
       "9317    4.139752\n",
       "9318    4.076294\n",
       "9319    4.076294\n",
       "Name: Category, Length: 9320, dtype: float64"
      ]
     },
     "execution_count": 108,
     "metadata": {},
     "output_type": "execute_result"
    }
   ],
   "source": [
    "final['Category']=final['Category'].map(mean_ordinal)\n",
    "final['Category']"
   ]
  },
  {
   "cell_type": "markdown",
   "id": "6518e790",
   "metadata": {},
   "source": [
    "### applying Target Guided Mean encoding On Content_Rating"
   ]
  },
  {
   "cell_type": "code",
   "execution_count": 109,
   "id": "5485a0d2",
   "metadata": {},
   "outputs": [
    {
     "data": {
      "text/plain": [
       "array(['Everyone', 'Teen', 'Everyone 10+', 'Mature 17+',\n",
       "       'Adults only 18+', 'Unrated'], dtype=object)"
      ]
     },
     "execution_count": 109,
     "metadata": {},
     "output_type": "execute_result"
    }
   ],
   "source": [
    "final['Content Rating'].unique()"
   ]
  },
  {
   "cell_type": "code",
   "execution_count": 110,
   "id": "3a118272",
   "metadata": {},
   "outputs": [],
   "source": [
    "ordinal_labels=final.groupby('Content Rating')['Rating'].mean().sort_values().index"
   ]
  },
  {
   "cell_type": "code",
   "execution_count": 111,
   "id": "c797cf08",
   "metadata": {},
   "outputs": [
    {
     "data": {
      "text/plain": [
       "Index(['Unrated', 'Mature 17+', 'Everyone', 'Everyone 10+', 'Teen',\n",
       "       'Adults only 18+'],\n",
       "      dtype='object', name='Content Rating')"
      ]
     },
     "execution_count": 111,
     "metadata": {},
     "output_type": "execute_result"
    }
   ],
   "source": [
    "ordinal_labels"
   ]
  },
  {
   "cell_type": "code",
   "execution_count": 112,
   "id": "8533c8bf",
   "metadata": {},
   "outputs": [
    {
     "data": {
      "text/plain": [
       "{'Unrated': 0,\n",
       " 'Mature 17+': 1,\n",
       " 'Everyone': 2,\n",
       " 'Everyone 10+': 3,\n",
       " 'Teen': 4,\n",
       " 'Adults only 18+': 5}"
      ]
     },
     "execution_count": 112,
     "metadata": {},
     "output_type": "execute_result"
    }
   ],
   "source": [
    "dict_store={key:value for value,key in enumerate(ordinal_labels,0)}\n",
    "dict_store"
   ]
  },
  {
   "cell_type": "code",
   "execution_count": 113,
   "id": "a044bac0",
   "metadata": {},
   "outputs": [],
   "source": [
    "final['Content Rating']=final['Content Rating'].map(dict_store)"
   ]
  },
  {
   "cell_type": "code",
   "execution_count": 114,
   "id": "79b16d42",
   "metadata": {},
   "outputs": [
    {
     "data": {
      "text/html": [
       "<div>\n",
       "<style scoped>\n",
       "    .dataframe tbody tr th:only-of-type {\n",
       "        vertical-align: middle;\n",
       "    }\n",
       "\n",
       "    .dataframe tbody tr th {\n",
       "        vertical-align: top;\n",
       "    }\n",
       "\n",
       "    .dataframe thead th {\n",
       "        text-align: right;\n",
       "    }\n",
       "</style>\n",
       "<table border=\"1\" class=\"dataframe\">\n",
       "  <thead>\n",
       "    <tr style=\"text-align: right;\">\n",
       "      <th></th>\n",
       "      <th>App</th>\n",
       "      <th>Category</th>\n",
       "      <th>Rating</th>\n",
       "      <th>Reviews</th>\n",
       "      <th>Size</th>\n",
       "      <th>Installs</th>\n",
       "      <th>Type</th>\n",
       "      <th>Price</th>\n",
       "      <th>Content Rating</th>\n",
       "      <th>Genres</th>\n",
       "      <th>Last Updated</th>\n",
       "      <th>Current Ver</th>\n",
       "      <th>Android Ver</th>\n",
       "      <th>year_added</th>\n",
       "      <th>month_added</th>\n",
       "    </tr>\n",
       "  </thead>\n",
       "  <tbody>\n",
       "    <tr>\n",
       "      <th>0</th>\n",
       "      <td>Photo Editor &amp; Candy Camera &amp; Grid &amp; ScrapBook</td>\n",
       "      <td>4.307692</td>\n",
       "      <td>4</td>\n",
       "      <td>5.075174</td>\n",
       "      <td>19.0</td>\n",
       "      <td>10000</td>\n",
       "      <td>Free</td>\n",
       "      <td>0.0</td>\n",
       "      <td>2</td>\n",
       "      <td>Art &amp; Design</td>\n",
       "      <td>2018-01-07</td>\n",
       "      <td>1.0.0</td>\n",
       "      <td>4.0.3 and up</td>\n",
       "      <td>2018</td>\n",
       "      <td>1</td>\n",
       "    </tr>\n",
       "    <tr>\n",
       "      <th>1</th>\n",
       "      <td>Coloring book moana</td>\n",
       "      <td>4.307692</td>\n",
       "      <td>4</td>\n",
       "      <td>6.875232</td>\n",
       "      <td>14.0</td>\n",
       "      <td>500000</td>\n",
       "      <td>Free</td>\n",
       "      <td>0.0</td>\n",
       "      <td>2</td>\n",
       "      <td>Art &amp; Design;Pretend Play</td>\n",
       "      <td>2018-01-15</td>\n",
       "      <td>2.0.0</td>\n",
       "      <td>4.0.3 and up</td>\n",
       "      <td>2018</td>\n",
       "      <td>1</td>\n",
       "    </tr>\n",
       "  </tbody>\n",
       "</table>\n",
       "</div>"
      ],
      "text/plain": [
       "                                              App  Category  Rating   Reviews  \\\n",
       "0  Photo Editor & Candy Camera & Grid & ScrapBook  4.307692       4  5.075174   \n",
       "1                             Coloring book moana  4.307692       4  6.875232   \n",
       "\n",
       "   Size  Installs  Type  Price  Content Rating                     Genres  \\\n",
       "0  19.0     10000  Free    0.0               2               Art & Design   \n",
       "1  14.0    500000  Free    0.0               2  Art & Design;Pretend Play   \n",
       "\n",
       "  Last Updated Current Ver   Android Ver  year_added  month_added  \n",
       "0   2018-01-07       1.0.0  4.0.3 and up        2018            1  \n",
       "1   2018-01-15       2.0.0  4.0.3 and up        2018            1  "
      ]
     },
     "execution_count": 114,
     "metadata": {},
     "output_type": "execute_result"
    }
   ],
   "source": [
    "final.head(2)"
   ]
  },
  {
   "cell_type": "markdown",
   "id": "5664fdba",
   "metadata": {},
   "source": [
    "### applying Label Encoding on Type column"
   ]
  },
  {
   "cell_type": "code",
   "execution_count": 115,
   "id": "9880e671",
   "metadata": {},
   "outputs": [
    {
     "data": {
      "text/html": [
       "<div>\n",
       "<style scoped>\n",
       "    .dataframe tbody tr th:only-of-type {\n",
       "        vertical-align: middle;\n",
       "    }\n",
       "\n",
       "    .dataframe tbody tr th {\n",
       "        vertical-align: top;\n",
       "    }\n",
       "\n",
       "    .dataframe thead th {\n",
       "        text-align: right;\n",
       "    }\n",
       "</style>\n",
       "<table border=\"1\" class=\"dataframe\">\n",
       "  <thead>\n",
       "    <tr style=\"text-align: right;\">\n",
       "      <th></th>\n",
       "      <th>App</th>\n",
       "      <th>Category</th>\n",
       "      <th>Rating</th>\n",
       "      <th>Reviews</th>\n",
       "      <th>Size</th>\n",
       "      <th>Installs</th>\n",
       "      <th>Type</th>\n",
       "      <th>Price</th>\n",
       "      <th>Content Rating</th>\n",
       "      <th>Genres</th>\n",
       "      <th>Last Updated</th>\n",
       "      <th>Current Ver</th>\n",
       "      <th>Android Ver</th>\n",
       "      <th>year_added</th>\n",
       "      <th>month_added</th>\n",
       "    </tr>\n",
       "  </thead>\n",
       "  <tbody>\n",
       "    <tr>\n",
       "      <th>0</th>\n",
       "      <td>Photo Editor &amp; Candy Camera &amp; Grid &amp; ScrapBook</td>\n",
       "      <td>4.307692</td>\n",
       "      <td>4</td>\n",
       "      <td>5.075174</td>\n",
       "      <td>19.0</td>\n",
       "      <td>10000</td>\n",
       "      <td>0</td>\n",
       "      <td>0.0</td>\n",
       "      <td>2</td>\n",
       "      <td>Art &amp; Design</td>\n",
       "      <td>2018-01-07</td>\n",
       "      <td>1.0.0</td>\n",
       "      <td>4.0.3 and up</td>\n",
       "      <td>2018</td>\n",
       "      <td>1</td>\n",
       "    </tr>\n",
       "    <tr>\n",
       "      <th>1</th>\n",
       "      <td>Coloring book moana</td>\n",
       "      <td>4.307692</td>\n",
       "      <td>4</td>\n",
       "      <td>6.875232</td>\n",
       "      <td>14.0</td>\n",
       "      <td>500000</td>\n",
       "      <td>0</td>\n",
       "      <td>0.0</td>\n",
       "      <td>2</td>\n",
       "      <td>Art &amp; Design;Pretend Play</td>\n",
       "      <td>2018-01-15</td>\n",
       "      <td>2.0.0</td>\n",
       "      <td>4.0.3 and up</td>\n",
       "      <td>2018</td>\n",
       "      <td>1</td>\n",
       "    </tr>\n",
       "    <tr>\n",
       "      <th>2</th>\n",
       "      <td>U Launcher Lite – FREE Live Cool Themes, Hide ...</td>\n",
       "      <td>4.307692</td>\n",
       "      <td>5</td>\n",
       "      <td>11.379520</td>\n",
       "      <td>8.7</td>\n",
       "      <td>100000</td>\n",
       "      <td>0</td>\n",
       "      <td>0.0</td>\n",
       "      <td>2</td>\n",
       "      <td>Art &amp; Design</td>\n",
       "      <td>2018-08-01</td>\n",
       "      <td>1.2.4</td>\n",
       "      <td>4.0.3 and up</td>\n",
       "      <td>2018</td>\n",
       "      <td>8</td>\n",
       "    </tr>\n",
       "  </tbody>\n",
       "</table>\n",
       "</div>"
      ],
      "text/plain": [
       "                                                 App  Category  Rating  \\\n",
       "0     Photo Editor & Candy Camera & Grid & ScrapBook  4.307692       4   \n",
       "1                                Coloring book moana  4.307692       4   \n",
       "2  U Launcher Lite – FREE Live Cool Themes, Hide ...  4.307692       5   \n",
       "\n",
       "     Reviews  Size  Installs  Type  Price  Content Rating  \\\n",
       "0   5.075174  19.0     10000     0    0.0               2   \n",
       "1   6.875232  14.0    500000     0    0.0               2   \n",
       "2  11.379520   8.7    100000     0    0.0               2   \n",
       "\n",
       "                      Genres Last Updated Current Ver   Android Ver  \\\n",
       "0               Art & Design   2018-01-07       1.0.0  4.0.3 and up   \n",
       "1  Art & Design;Pretend Play   2018-01-15       2.0.0  4.0.3 and up   \n",
       "2               Art & Design   2018-08-01       1.2.4  4.0.3 and up   \n",
       "\n",
       "   year_added  month_added  \n",
       "0        2018            1  \n",
       "1        2018            1  \n",
       "2        2018            8  "
      ]
     },
     "execution_count": 115,
     "metadata": {},
     "output_type": "execute_result"
    }
   ],
   "source": [
    "from sklearn.preprocessing import LabelEncoder\n",
    "le=LabelEncoder()\n",
    "final['Type']=le.fit_transform(final['Type'])\n",
    "final.head(3)"
   ]
  },
  {
   "cell_type": "markdown",
   "id": "93137ef1",
   "metadata": {},
   "source": [
    "#### drop all the un-necessary columns.."
   ]
  },
  {
   "cell_type": "code",
   "execution_count": 116,
   "id": "3aae94cb",
   "metadata": {},
   "outputs": [
    {
     "data": {
      "text/plain": [
       "Index(['App', 'Category', 'Rating', 'Reviews', 'Size', 'Installs', 'Type',\n",
       "       'Price', 'Content Rating', 'Genres', 'Last Updated', 'Current Ver',\n",
       "       'Android Ver', 'year_added', 'month_added'],\n",
       "      dtype='object')"
      ]
     },
     "execution_count": 116,
     "metadata": {},
     "output_type": "execute_result"
    }
   ],
   "source": [
    "final.columns"
   ]
  },
  {
   "cell_type": "code",
   "execution_count": 117,
   "id": "90e4b26c",
   "metadata": {},
   "outputs": [
    {
     "data": {
      "text/html": [
       "<div>\n",
       "<style scoped>\n",
       "    .dataframe tbody tr th:only-of-type {\n",
       "        vertical-align: middle;\n",
       "    }\n",
       "\n",
       "    .dataframe tbody tr th {\n",
       "        vertical-align: top;\n",
       "    }\n",
       "\n",
       "    .dataframe thead th {\n",
       "        text-align: right;\n",
       "    }\n",
       "</style>\n",
       "<table border=\"1\" class=\"dataframe\">\n",
       "  <thead>\n",
       "    <tr style=\"text-align: right;\">\n",
       "      <th></th>\n",
       "      <th>Category</th>\n",
       "      <th>Rating</th>\n",
       "      <th>Reviews</th>\n",
       "      <th>Size</th>\n",
       "      <th>Installs</th>\n",
       "      <th>Type</th>\n",
       "      <th>Price</th>\n",
       "      <th>Content Rating</th>\n",
       "      <th>year_added</th>\n",
       "      <th>month_added</th>\n",
       "    </tr>\n",
       "  </thead>\n",
       "  <tbody>\n",
       "    <tr>\n",
       "      <th>0</th>\n",
       "      <td>4.307692</td>\n",
       "      <td>4</td>\n",
       "      <td>5.075174</td>\n",
       "      <td>19.0</td>\n",
       "      <td>10000</td>\n",
       "      <td>0</td>\n",
       "      <td>0.0</td>\n",
       "      <td>2</td>\n",
       "      <td>2018</td>\n",
       "      <td>1</td>\n",
       "    </tr>\n",
       "    <tr>\n",
       "      <th>1</th>\n",
       "      <td>4.307692</td>\n",
       "      <td>4</td>\n",
       "      <td>6.875232</td>\n",
       "      <td>14.0</td>\n",
       "      <td>500000</td>\n",
       "      <td>0</td>\n",
       "      <td>0.0</td>\n",
       "      <td>2</td>\n",
       "      <td>2018</td>\n",
       "      <td>1</td>\n",
       "    </tr>\n",
       "  </tbody>\n",
       "</table>\n",
       "</div>"
      ],
      "text/plain": [
       "   Category  Rating   Reviews  Size  Installs  Type  Price  Content Rating  \\\n",
       "0  4.307692       4  5.075174  19.0     10000     0    0.0               2   \n",
       "1  4.307692       4  6.875232  14.0    500000     0    0.0               2   \n",
       "\n",
       "   year_added  month_added  \n",
       "0        2018            1  \n",
       "1        2018            1  "
      ]
     },
     "execution_count": 117,
     "metadata": {},
     "output_type": "execute_result"
    }
   ],
   "source": [
    "final.drop(labels=['App','Genres','Last Updated','Current Ver','Android Ver'],axis=1,inplace=True)\n",
    "final.head(2)"
   ]
  },
  {
   "cell_type": "code",
   "execution_count": 118,
   "id": "960290d5",
   "metadata": {},
   "outputs": [
    {
     "data": {
      "text/plain": [
       "Category          1\n",
       "Rating            0\n",
       "Reviews           0\n",
       "Size              0\n",
       "Installs          0\n",
       "Type              0\n",
       "Price             0\n",
       "Content Rating    0\n",
       "year_added        0\n",
       "month_added       0\n",
       "dtype: int64"
      ]
     },
     "execution_count": 118,
     "metadata": {},
     "output_type": "execute_result"
    }
   ],
   "source": [
    "final.isna().sum()"
   ]
  },
  {
   "cell_type": "code",
   "execution_count": 119,
   "id": "598fc761",
   "metadata": {},
   "outputs": [],
   "source": [
    "final.dropna(inplace=True)"
   ]
  },
  {
   "cell_type": "markdown",
   "id": "9a039684",
   "metadata": {},
   "source": [
    "### Obtaining the Dependent and Independent variable"
   ]
  },
  {
   "cell_type": "code",
   "execution_count": 120,
   "id": "159a5562",
   "metadata": {},
   "outputs": [],
   "source": [
    "X=final.drop('Rating',axis=1)"
   ]
  },
  {
   "cell_type": "code",
   "execution_count": 121,
   "id": "bce70903",
   "metadata": {},
   "outputs": [
    {
     "data": {
      "text/html": [
       "<div>\n",
       "<style scoped>\n",
       "    .dataframe tbody tr th:only-of-type {\n",
       "        vertical-align: middle;\n",
       "    }\n",
       "\n",
       "    .dataframe tbody tr th {\n",
       "        vertical-align: top;\n",
       "    }\n",
       "\n",
       "    .dataframe thead th {\n",
       "        text-align: right;\n",
       "    }\n",
       "</style>\n",
       "<table border=\"1\" class=\"dataframe\">\n",
       "  <thead>\n",
       "    <tr style=\"text-align: right;\">\n",
       "      <th></th>\n",
       "      <th>Category</th>\n",
       "      <th>Reviews</th>\n",
       "      <th>Size</th>\n",
       "      <th>Installs</th>\n",
       "      <th>Type</th>\n",
       "      <th>Price</th>\n",
       "      <th>Content Rating</th>\n",
       "      <th>year_added</th>\n",
       "      <th>month_added</th>\n",
       "    </tr>\n",
       "  </thead>\n",
       "  <tbody>\n",
       "    <tr>\n",
       "      <th>0</th>\n",
       "      <td>4.307692</td>\n",
       "      <td>5.075174</td>\n",
       "      <td>19.0</td>\n",
       "      <td>10000</td>\n",
       "      <td>0</td>\n",
       "      <td>0.0</td>\n",
       "      <td>2</td>\n",
       "      <td>2018</td>\n",
       "      <td>1</td>\n",
       "    </tr>\n",
       "    <tr>\n",
       "      <th>1</th>\n",
       "      <td>4.307692</td>\n",
       "      <td>6.875232</td>\n",
       "      <td>14.0</td>\n",
       "      <td>500000</td>\n",
       "      <td>0</td>\n",
       "      <td>0.0</td>\n",
       "      <td>2</td>\n",
       "      <td>2018</td>\n",
       "      <td>1</td>\n",
       "    </tr>\n",
       "    <tr>\n",
       "      <th>2</th>\n",
       "      <td>4.307692</td>\n",
       "      <td>11.379520</td>\n",
       "      <td>8.7</td>\n",
       "      <td>100000</td>\n",
       "      <td>0</td>\n",
       "      <td>0.0</td>\n",
       "      <td>2</td>\n",
       "      <td>2018</td>\n",
       "      <td>8</td>\n",
       "    </tr>\n",
       "    <tr>\n",
       "      <th>3</th>\n",
       "      <td>4.307692</td>\n",
       "      <td>12.281389</td>\n",
       "      <td>25.0</td>\n",
       "      <td>100000</td>\n",
       "      <td>0</td>\n",
       "      <td>0.0</td>\n",
       "      <td>4</td>\n",
       "      <td>2018</td>\n",
       "      <td>6</td>\n",
       "    </tr>\n",
       "    <tr>\n",
       "      <th>4</th>\n",
       "      <td>4.307692</td>\n",
       "      <td>6.875232</td>\n",
       "      <td>2.8</td>\n",
       "      <td>100000</td>\n",
       "      <td>0</td>\n",
       "      <td>0.0</td>\n",
       "      <td>2</td>\n",
       "      <td>2018</td>\n",
       "      <td>6</td>\n",
       "    </tr>\n",
       "  </tbody>\n",
       "</table>\n",
       "</div>"
      ],
      "text/plain": [
       "   Category    Reviews  Size  Installs  Type  Price  Content Rating  \\\n",
       "0  4.307692   5.075174  19.0     10000     0    0.0               2   \n",
       "1  4.307692   6.875232  14.0    500000     0    0.0               2   \n",
       "2  4.307692  11.379520   8.7    100000     0    0.0               2   \n",
       "3  4.307692  12.281389  25.0    100000     0    0.0               4   \n",
       "4  4.307692   6.875232   2.8    100000     0    0.0               2   \n",
       "\n",
       "   year_added  month_added  \n",
       "0        2018            1  \n",
       "1        2018            1  \n",
       "2        2018            8  \n",
       "3        2018            6  \n",
       "4        2018            6  "
      ]
     },
     "execution_count": 121,
     "metadata": {},
     "output_type": "execute_result"
    }
   ],
   "source": [
    "X.head(5)"
   ]
  },
  {
   "cell_type": "code",
   "execution_count": 122,
   "id": "6ca5d1c5",
   "metadata": {},
   "outputs": [
    {
     "data": {
      "text/plain": [
       "0    4\n",
       "1    4\n",
       "2    5\n",
       "Name: Rating, dtype: int64"
      ]
     },
     "execution_count": 122,
     "metadata": {},
     "output_type": "execute_result"
    }
   ],
   "source": [
    "y=final['Rating']\n",
    "y.head(3)"
   ]
  },
  {
   "cell_type": "markdown",
   "id": "da77dcd8",
   "metadata": {},
   "source": [
    "### Splitting the data into train and test data"
   ]
  },
  {
   "cell_type": "code",
   "execution_count": 123,
   "id": "b2c2100f",
   "metadata": {},
   "outputs": [],
   "source": [
    "from sklearn.model_selection import train_test_split\n",
    "X_train, X_test, y_train, y_test=train_test_split(X, y, test_size=0.2)"
   ]
  },
  {
   "cell_type": "markdown",
   "id": "2909adca",
   "metadata": {},
   "source": [
    "# Building ML model"
   ]
  },
  {
   "cell_type": "markdown",
   "id": "e0d55548",
   "metadata": {},
   "source": [
    "## Logistic Regression Model"
   ]
  },
  {
   "cell_type": "code",
   "execution_count": 124,
   "id": "c2584a3f",
   "metadata": {},
   "outputs": [
    {
     "data": {
      "text/plain": [
       "LogisticRegression()"
      ]
     },
     "execution_count": 124,
     "metadata": {},
     "output_type": "execute_result"
    }
   ],
   "source": [
    "from sklearn.linear_model import LogisticRegression\n",
    "classifier_logistic = LogisticRegression()\n",
    "classifier_logistic.fit(X_train, y_train)"
   ]
  },
  {
   "cell_type": "markdown",
   "id": "ebcb0bb0",
   "metadata": {},
   "source": [
    "#### Making the Confusion Matrix"
   ]
  },
  {
   "cell_type": "code",
   "execution_count": 125,
   "id": "46e56886",
   "metadata": {},
   "outputs": [
    {
     "name": "stdout",
     "output_type": "stream",
     "text": [
      "[[   0    0    0    4    0]\n",
      " [   0    0    0   22    0]\n",
      " [   0    0    0  160    0]\n",
      " [   0    0    0 1350    0]\n",
      " [   0    0    0  328    0]]\n",
      "\n",
      "The accuracy of Logistic Regression is:  72.42489270386267\n",
      "\n",
      "classification_report\n",
      "               precision    recall  f1-score   support\n",
      "\n",
      "           1       0.00      0.00      0.00         4\n",
      "           2       0.00      0.00      0.00        22\n",
      "           3       0.00      0.00      0.00       160\n",
      "           4       0.72      1.00      0.84      1350\n",
      "           5       0.00      0.00      0.00       328\n",
      "\n",
      "    accuracy                           0.72      1864\n",
      "   macro avg       0.14      0.20      0.17      1864\n",
      "weighted avg       0.52      0.72      0.61      1864\n",
      "\n"
     ]
    },
    {
     "name": "stderr",
     "output_type": "stream",
     "text": [
      "C:\\Users\\anusha\\anaconda3\\lib\\site-packages\\sklearn\\metrics\\_classification.py:1308: UndefinedMetricWarning: Precision and F-score are ill-defined and being set to 0.0 in labels with no predicted samples. Use `zero_division` parameter to control this behavior.\n",
      "  _warn_prf(average, modifier, msg_start, len(result))\n",
      "C:\\Users\\anusha\\anaconda3\\lib\\site-packages\\sklearn\\metrics\\_classification.py:1308: UndefinedMetricWarning: Precision and F-score are ill-defined and being set to 0.0 in labels with no predicted samples. Use `zero_division` parameter to control this behavior.\n",
      "  _warn_prf(average, modifier, msg_start, len(result))\n",
      "C:\\Users\\anusha\\anaconda3\\lib\\site-packages\\sklearn\\metrics\\_classification.py:1308: UndefinedMetricWarning: Precision and F-score are ill-defined and being set to 0.0 in labels with no predicted samples. Use `zero_division` parameter to control this behavior.\n",
      "  _warn_prf(average, modifier, msg_start, len(result))\n"
     ]
    }
   ],
   "source": [
    "from sklearn.metrics import confusion_matrix, accuracy_score,classification_report\n",
    "y_pred = classifier_logistic.predict(X_test)\n",
    "cm = confusion_matrix(y_test, y_pred)\n",
    "print(cm)\n",
    "print('\\nThe accuracy of Logistic Regression is: ',accuracy_score(y_test, y_pred)*100)\n",
    "print('\\nclassification_report\\n',classification_report(y_test,y_pred))"
   ]
  },
  {
   "cell_type": "markdown",
   "id": "70b295d5",
   "metadata": {},
   "source": [
    "## Decision Tree Classification"
   ]
  },
  {
   "cell_type": "code",
   "execution_count": 126,
   "id": "f1a77154",
   "metadata": {},
   "outputs": [
    {
     "data": {
      "text/plain": [
       "DecisionTreeClassifier()"
      ]
     },
     "execution_count": 126,
     "metadata": {},
     "output_type": "execute_result"
    }
   ],
   "source": [
    "from sklearn.tree import DecisionTreeClassifier\n",
    "classifier_dt = DecisionTreeClassifier()\n",
    "classifier_dt.fit(X_train, y_train)"
   ]
  },
  {
   "cell_type": "markdown",
   "id": "e20eb750",
   "metadata": {},
   "source": [
    "#### Making the Confusion Matrix"
   ]
  },
  {
   "cell_type": "code",
   "execution_count": 127,
   "id": "d6da82ee",
   "metadata": {},
   "outputs": [
    {
     "name": "stdout",
     "output_type": "stream",
     "text": [
      "[[   0    0    0    3    1]\n",
      " [   0    1    6    8    7]\n",
      " [   0    8   31  106   15]\n",
      " [   2   13   87 1039  209]\n",
      " [   0    4   20  165  139]]\n",
      "\n",
      "The accuracy of Decision Tree is:  64.91416309012875\n",
      "\n",
      "classification_report\n",
      "               precision    recall  f1-score   support\n",
      "\n",
      "           1       0.00      0.00      0.00         4\n",
      "           2       0.04      0.05      0.04        22\n",
      "           3       0.22      0.19      0.20       160\n",
      "           4       0.79      0.77      0.78      1350\n",
      "           5       0.37      0.42      0.40       328\n",
      "\n",
      "    accuracy                           0.65      1864\n",
      "   macro avg       0.28      0.29      0.28      1864\n",
      "weighted avg       0.65      0.65      0.65      1864\n",
      "\n"
     ]
    }
   ],
   "source": [
    "from sklearn.metrics import confusion_matrix, accuracy_score,classification_report\n",
    "y_pred = classifier_dt.predict(X_test)\n",
    "cm = confusion_matrix(y_test, y_pred)\n",
    "print(cm)\n",
    "print('\\nThe accuracy of Decision Tree is: ',accuracy_score(y_test, y_pred)*100)\n",
    "print('\\nclassification_report\\n',classification_report(y_test,y_pred))"
   ]
  },
  {
   "cell_type": "markdown",
   "id": "0f0870c1",
   "metadata": {},
   "source": [
    "## Random Forest"
   ]
  },
  {
   "cell_type": "code",
   "execution_count": 128,
   "id": "336e354c",
   "metadata": {},
   "outputs": [
    {
     "data": {
      "text/plain": [
       "RandomForestClassifier(criterion='entropy', n_estimators=10, random_state=0)"
      ]
     },
     "execution_count": 128,
     "metadata": {},
     "output_type": "execute_result"
    }
   ],
   "source": [
    "from sklearn.ensemble import RandomForestClassifier\n",
    "classifier = RandomForestClassifier(n_estimators = 10, criterion = 'entropy', random_state = 0)\n",
    "classifier.fit(X_train, y_train)"
   ]
  },
  {
   "cell_type": "markdown",
   "id": "3c70cd53",
   "metadata": {},
   "source": [
    "#### Making the Confusion Matrix"
   ]
  },
  {
   "cell_type": "code",
   "execution_count": 129,
   "id": "2d61d769",
   "metadata": {},
   "outputs": [
    {
     "name": "stdout",
     "output_type": "stream",
     "text": [
      "[[   0    0    0    4    0]\n",
      " [   0    0    4   18    0]\n",
      " [   0    0   23  136    1]\n",
      " [   2    1   26 1266   55]\n",
      " [   0    1    5  229   93]]\n",
      "\n",
      "The accuracy of Random Forest is:  74.14163090128756\n",
      "\n",
      "classification_report\n",
      "               precision    recall  f1-score   support\n",
      "\n",
      "           1       0.00      0.00      0.00         4\n",
      "           2       0.00      0.00      0.00        22\n",
      "           3       0.40      0.14      0.21       160\n",
      "           4       0.77      0.94      0.84      1350\n",
      "           5       0.62      0.28      0.39       328\n",
      "\n",
      "    accuracy                           0.74      1864\n",
      "   macro avg       0.36      0.27      0.29      1864\n",
      "weighted avg       0.70      0.74      0.70      1864\n",
      "\n"
     ]
    }
   ],
   "source": [
    "from sklearn.metrics import confusion_matrix, accuracy_score,classification_report\n",
    "y_pred = classifier.predict(X_test)\n",
    "cm = confusion_matrix(y_test, y_pred)\n",
    "print(cm)\n",
    "print('\\nThe accuracy of Random Forest is: ',accuracy_score(y_test, y_pred)*100)\n",
    "print('\\nclassification_report\\n',classification_report(y_test,y_pred))"
   ]
  },
  {
   "cell_type": "markdown",
   "id": "55df197b",
   "metadata": {},
   "source": [
    "### Hypertune Logistic Model"
   ]
  },
  {
   "cell_type": "code",
   "execution_count": 130,
   "id": "e9f1914f",
   "metadata": {},
   "outputs": [],
   "source": [
    "from sklearn.linear_model import LogisticRegression\n",
    "log_class=LogisticRegression()"
   ]
  },
  {
   "cell_type": "code",
   "execution_count": 131,
   "id": "75f92677",
   "metadata": {},
   "outputs": [
    {
     "data": {
      "text/plain": [
       "{'C': array([1.e-02, 1.e-01, 1.e+00, 1.e+01, 1.e+02]), 'penalty': ['l1', 'l2']}"
      ]
     },
     "execution_count": 131,
     "metadata": {},
     "output_type": "execute_result"
    }
   ],
   "source": [
    "grid={'C':10.0 ** np.arange(-2,3),'penalty':['l1','l2']}\n",
    "grid"
   ]
  },
  {
   "cell_type": "code",
   "execution_count": 132,
   "id": "4bd918f7",
   "metadata": {},
   "outputs": [
    {
     "name": "stderr",
     "output_type": "stream",
     "text": [
      "C:\\Users\\anusha\\anaconda3\\lib\\site-packages\\sklearn\\model_selection\\_validation.py:372: FitFailedWarning: \n",
      "25 fits failed out of a total of 50.\n",
      "The score on these train-test partitions for these parameters will be set to nan.\n",
      "If these failures are not expected, you can try to debug them by setting error_score='raise'.\n",
      "\n",
      "Below are more details about the failures:\n",
      "--------------------------------------------------------------------------------\n",
      "25 fits failed with the following error:\n",
      "Traceback (most recent call last):\n",
      "  File \"C:\\Users\\anusha\\anaconda3\\lib\\site-packages\\sklearn\\model_selection\\_validation.py\", line 681, in _fit_and_score\n",
      "    estimator.fit(X_train, y_train, **fit_params)\n",
      "  File \"C:\\Users\\anusha\\anaconda3\\lib\\site-packages\\sklearn\\linear_model\\_logistic.py\", line 1461, in fit\n",
      "    solver = _check_solver(self.solver, self.penalty, self.dual)\n",
      "  File \"C:\\Users\\anusha\\anaconda3\\lib\\site-packages\\sklearn\\linear_model\\_logistic.py\", line 447, in _check_solver\n",
      "    raise ValueError(\n",
      "ValueError: Solver lbfgs supports only 'l2' or 'none' penalties, got l1 penalty.\n",
      "\n",
      "  warnings.warn(some_fits_failed_message, FitFailedWarning)\n",
      "C:\\Users\\anusha\\anaconda3\\lib\\site-packages\\sklearn\\model_selection\\_search.py:969: UserWarning: One or more of the test scores are non-finite: [       nan 0.16987189        nan 0.16987189        nan 0.16987189\n",
      "        nan 0.16987189        nan 0.16987189]\n",
      "  warnings.warn(\n",
      "C:\\Users\\anusha\\anaconda3\\lib\\site-packages\\sklearn\\linear_model\\_logistic.py:814: ConvergenceWarning: lbfgs failed to converge (status=1):\n",
      "STOP: TOTAL NO. of ITERATIONS REACHED LIMIT.\n",
      "\n",
      "Increase the number of iterations (max_iter) or scale the data as shown in:\n",
      "    https://scikit-learn.org/stable/modules/preprocessing.html\n",
      "Please also refer to the documentation for alternative solver options:\n",
      "    https://scikit-learn.org/stable/modules/linear_model.html#logistic-regression\n",
      "  n_iter_i = _check_optimize_result(\n"
     ]
    },
    {
     "data": {
      "text/plain": [
       "GridSearchCV(cv=5, estimator=LogisticRegression(), n_jobs=-1,\n",
       "             param_grid={'C': array([1.e-02, 1.e-01, 1.e+00, 1.e+01, 1.e+02]),\n",
       "                         'penalty': ['l1', 'l2']},\n",
       "             scoring='f1_macro')"
      ]
     },
     "execution_count": 132,
     "metadata": {},
     "output_type": "execute_result"
    }
   ],
   "source": [
    "from sklearn.model_selection import GridSearchCV\n",
    "clf=GridSearchCV(estimator=log_class,param_grid=grid,cv=5,n_jobs=-1,scoring='f1_macro')\n",
    "clf.fit(X_train,y_train)"
   ]
  },
  {
   "cell_type": "code",
   "execution_count": 133,
   "id": "5f658624",
   "metadata": {},
   "outputs": [
    {
     "data": {
      "text/plain": [
       "{'C': 0.01, 'penalty': 'l2'}"
      ]
     },
     "execution_count": 133,
     "metadata": {},
     "output_type": "execute_result"
    }
   ],
   "source": [
    "clf.best_params_"
   ]
  },
  {
   "cell_type": "code",
   "execution_count": 141,
   "id": "6fbc5818",
   "metadata": {},
   "outputs": [
    {
     "name": "stdout",
     "output_type": "stream",
     "text": [
      "\n",
      "The accuracy of Logistic Regression is:  72.42489270386267\n"
     ]
    },
    {
     "name": "stderr",
     "output_type": "stream",
     "text": [
      "C:\\Users\\anusha\\anaconda3\\lib\\site-packages\\sklearn\\linear_model\\_logistic.py:814: ConvergenceWarning: lbfgs failed to converge (status=1):\n",
      "STOP: TOTAL NO. of ITERATIONS REACHED LIMIT.\n",
      "\n",
      "Increase the number of iterations (max_iter) or scale the data as shown in:\n",
      "    https://scikit-learn.org/stable/modules/preprocessing.html\n",
      "Please also refer to the documentation for alternative solver options:\n",
      "    https://scikit-learn.org/stable/modules/linear_model.html#logistic-regression\n",
      "  n_iter_i = _check_optimize_result(\n"
     ]
    }
   ],
   "source": [
    "log=LogisticRegression(C= 0.01, penalty= 'l2')\n",
    "log.fit(X_train,y_train)\n",
    "pred2=log.predict(X_test)\n",
    "print('\\nThe accuracy of Logistic Regression is: ',accuracy_score(y_test,pred2)*100)"
   ]
  },
  {
   "cell_type": "markdown",
   "id": "6f0cdb2f",
   "metadata": {},
   "source": [
    "### Hypertune Random Forest Model"
   ]
  },
  {
   "cell_type": "code",
   "execution_count": 135,
   "id": "66cb6fa7",
   "metadata": {},
   "outputs": [],
   "source": [
    "from sklearn.model_selection import RandomizedSearchCV"
   ]
  },
  {
   "cell_type": "code",
   "execution_count": 136,
   "id": "f6df121e",
   "metadata": {},
   "outputs": [],
   "source": [
    "n_estimators=[int(x) for x in np.linspace(200,2000,5)]\n",
    "max_features=[\"auto\", \"sqrt\", \"log2\"]\n",
    "max_depth=[int(x) for x in np.linspace(10,2000,5)]\n",
    "\n",
    "min_samples_leaf=[1,2,4,6]\n",
    "min_samples_split=[2,5,10,14]\n",
    "\n",
    "\n",
    "random_grid={\n",
    "    'n_estimators':n_estimators,\n",
    "    'max_features':max_features,\n",
    "    'max_depth':max_depth,\n",
    "    'min_samples_leaf':min_samples_leaf,\n",
    "    'min_samples_split':min_samples_split,\n",
    "    'criterion':['entropy','gini']\n",
    "}"
   ]
  },
  {
   "cell_type": "code",
   "execution_count": 137,
   "id": "582f2129",
   "metadata": {},
   "outputs": [],
   "source": [
    "from sklearn.ensemble import RandomForestClassifier\n",
    "rf=RandomForestClassifier()"
   ]
  },
  {
   "cell_type": "code",
   "execution_count": 138,
   "id": "a63f023b",
   "metadata": {},
   "outputs": [
    {
     "name": "stdout",
     "output_type": "stream",
     "text": [
      "Fitting 3 folds for each of 20 candidates, totalling 60 fits\n"
     ]
    },
    {
     "data": {
      "text/plain": [
       "RandomizedSearchCV(cv=3, estimator=RandomForestClassifier(), n_iter=20,\n",
       "                   n_jobs=-1,\n",
       "                   param_distributions={'criterion': ['entropy', 'gini'],\n",
       "                                        'max_depth': [10, 507, 1005, 1502,\n",
       "                                                      2000],\n",
       "                                        'max_features': ['auto', 'sqrt',\n",
       "                                                         'log2'],\n",
       "                                        'min_samples_leaf': [1, 2, 4, 6],\n",
       "                                        'min_samples_split': [2, 5, 10, 14],\n",
       "                                        'n_estimators': [200, 650, 1100, 1550,\n",
       "                                                         2000]},\n",
       "                   random_state=100, verbose=2)"
      ]
     },
     "execution_count": 138,
     "metadata": {},
     "output_type": "execute_result"
    }
   ],
   "source": [
    "rf_randomcv=RandomizedSearchCV(estimator=rf,param_distributions=random_grid,n_iter=20,cv=3,verbose=2,random_state=100,n_jobs=-1)\n",
    "rf_randomcv.fit(X_train,y_train)"
   ]
  },
  {
   "cell_type": "code",
   "execution_count": 139,
   "id": "8c84b1d1",
   "metadata": {},
   "outputs": [
    {
     "name": "stdout",
     "output_type": "stream",
     "text": [
      "\n",
      "The accuracy of Random Forest is:  75.5901287553648\n"
     ]
    }
   ],
   "source": [
    "pred2=rf_randomcv.predict(X_test)\n",
    "print('\\nThe accuracy of Random Forest is: ',accuracy_score(y_test, pred2)*100)"
   ]
  },
  {
   "cell_type": "code",
   "execution_count": null,
   "id": "5ec3a8ec",
   "metadata": {},
   "outputs": [],
   "source": []
  }
 ],
 "metadata": {
  "kernelspec": {
   "display_name": "Python 3",
   "language": "python",
   "name": "python3"
  },
  "language_info": {
   "codemirror_mode": {
    "name": "ipython",
    "version": 3
   },
   "file_extension": ".py",
   "mimetype": "text/x-python",
   "name": "python",
   "nbconvert_exporter": "python",
   "pygments_lexer": "ipython3",
   "version": "3.8.8"
  }
 },
 "nbformat": 4,
 "nbformat_minor": 5
}
